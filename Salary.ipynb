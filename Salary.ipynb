{
 "cells": [
  {
   "cell_type": "code",
   "execution_count": 2,
   "id": "7b75122e-26c3-4719-b05b-35d7fb233c6c",
   "metadata": {},
   "outputs": [],
   "source": [
    "from bs4 import BeautifulSoup\n",
    "from selenium import webdriver\n",
    "from selenium.webdriver.chrome.options import Options\n",
    "import time"
   ]
  },
  {
   "cell_type": "code",
   "execution_count": 3,
   "id": "9a6d3c1f-ca5c-4b75-beff-976df17c5400",
   "metadata": {},
   "outputs": [],
   "source": [
    "company_name = \"Apple\"\n",
    "job_title = \"Software engineer\"\n",
    "location = \"India\"\n",
    "# add headless option\n",
    "options = Options()\n",
    "# options.add_argument(\"--headless\")\n",
    "driver = webdriver.Chrome(options = options)\n",
    "# url = f\"https://www.glassdoor.co.in/Salary/Google-Software-Engineer-India-Salaries-EJI_IE9079.0,6_KO7,24_IL.25,30_IN115.htm\"\n",
    "# https://www.glassdoor.co.in/Salary/Apple-Software-Engineer-Salaries-E1138_D_KO6,23.htm\n",
    "url = f\"https://www.glassdoor.co.in/Salary/{company_name}-{job_title.replace(' ', '-')}-{location}-Salaries-EJI_IE9079.0,6_KO7,24_IL.25,30_IN115.htm\"\n",
    "\n",
    "driver.get(url)\n",
    "driver.maximize_window()\n",
    "# wait for the page to load completely\n",
    "time.sleep(2)\n",
    "# collect raw html\n",
    "response = driver.page_source\n",
    "# driver.close()"
   ]
  },
  {
   "cell_type": "markdown",
   "id": "f31fb911-a209-4a19-b571-27a816447ea8",
   "metadata": {},
   "source": [
    "## Now to parse and scan the html tree"
   ]
  },
  {
   "cell_type": "code",
   "execution_count": 2,
   "id": "bcf816db-a027-4e53-80d3-1490c3a03876",
   "metadata": {},
   "outputs": [],
   "source": [
    "import re\n",
    "from html.parser import HTMLParser\n",
    "\n",
    "class customizedParser(HTMLParser):\n",
    "    def __init__(self):\n",
    "        super().__init__()\n",
    "        self.result = []\n",
    "    def handle_data(self, data):\n",
    "        self.result.append(data)\n",
    "        \n",
    "def do():\n",
    "    company_name = \"Google\"\n",
    "    job_title = \"Software engineer\"\n",
    "    location = \"India\"\n",
    "    # add headless option\n",
    "    options = Options()\n",
    "    # options.add_argument(\"--headless\")\n",
    "    driver = webdriver.Chrome(options = options)\n",
    "    # url = f\"https://www.glassdoor.co.in/Salary/Google-Software-Engineer-India-Salaries-EJI_IE9079.0,6_KO7,24_IL.25,30_IN115.htm\"\n",
    "    url = f\"https://www.glassdoor.co.in/Salary/{company_name}-{job_title.replace(' ', '-')}-{location}-Salaries-EJI_IE9079.0,6_KO7,24_IL.25,30_IN115.htm\"\n",
    "    \n",
    "    driver.get(url)\n",
    "    driver.maximize_window()\n",
    "    # wait for the page to load completely\n",
    "    time.sleep(2)\n",
    "    # collect raw html\n",
    "    response = driver.page_source\n",
    "    # driver.close()\n",
    "    soup = BeautifulSoup(response, 'html.parser')\n",
    "    driver.close()\n",
    "    # Locate the section\n",
    "    section = soup.find(\"section\", class_ = \"hero_SubModule__wCYtE\")\n",
    "    # if the section is not present\n",
    "    if not section:\n",
    "        return {\n",
    "            \"error\" : \"No salary range defined\"\n",
    "        }\n",
    "    div = section.find('div', class_ = 'hero_TotalPayLayout__X55hl hero_PayRange__nKzVj')\n",
    "    div_salary_range = div.find_all('div', 'hero_PayRange__nKzVj')\n",
    "    # print(div_salary_range) # we got a list like\n",
    "    '''\n",
    "[<div class=\"hero_PayRange__nKzVj\">₹15.0L</div>, <div class=\"hero_PayRange__nKzVj\">-</div>, \n",
    "<div class=\"hero_PayRange__nKzVj\">₹35.0L<sub class=\"hero_PayLabel__UtI9Y\">/yr</sub></div>]\n",
    "    '''\n",
    "    salary = \"\"\n",
    "    for unparsed_data in div_salary_range:\n",
    "         # instantiating our customized HTM parser\n",
    "        parser = customizedParser()\n",
    "        # feed the unparsed data to parser\n",
    "        parser.feed(repr(unparsed_data))\n",
    "        # get the resultant list\n",
    "        salary += ' '.join(parser.result)\n",
    "    return salary"
   ]
  },
  {
   "cell_type": "code",
   "execution_count": 3,
   "id": "1354b63c-2217-4036-a92e-393e52a41e86",
   "metadata": {},
   "outputs": [
    {
     "name": "stdout",
     "output_type": "stream",
     "text": [
      "₹15.0L-₹35.0L /yr\n"
     ]
    }
   ],
   "source": [
    "print(do())"
   ]
  },
  {
   "cell_type": "code",
   "execution_count": 45,
   "id": "6c562acc-122c-43a4-84b3-8a12ce6399d8",
   "metadata": {},
   "outputs": [
    {
     "name": "stdout",
     "output_type": "stream",
     "text": [
      "₹35.0L/yr\n"
     ]
    }
   ],
   "source": [
    "from html.parser import HTMLParser\n",
    "\n",
    "class TextExtractor(HTMLParser):\n",
    "    def __init__(self):\n",
    "        super().__init__()\n",
    "        self.result = []\n",
    "\n",
    "    def handle_data(self, data):\n",
    "        self.result.append(data.strip())\n",
    "\n",
    "html = '<div class=\"hero_PayRange__nKzVj\">₹35.0L<sub class=\"hero_PayLabel__UtI9Y\">/yr</sub></div>'\n",
    "\n",
    "parser = TextExtractor()\n",
    "parser.feed(html)\n",
    "output = ''.join(parser.result)\n",
    "print(output)"
   ]
  },
  {
   "cell_type": "markdown",
   "id": "9136dca6-8f2c-4fea-9d5c-8bb0e228f01a",
   "metadata": {},
   "source": [
    "## **HTML Parser library**\n",
    "```html.parser -> feed()```"
   ]
  },
  {
   "cell_type": "code",
   "execution_count": 47,
   "id": "d92b2931-47c4-4060-b792-b4a4d850393b",
   "metadata": {},
   "outputs": [
    {
     "name": "stdout",
     "output_type": "stream",
     "text": [
      "['₹35.0L', '/yr']\n"
     ]
    }
   ],
   "source": [
    "from html.parser import HTMLParser\n",
    "# We need to customize the parser or else it contains blank placeholders\n",
    "class customizedParser(HTMLParser):\n",
    "    def __init__(self):\n",
    "        # Call parent class constructor\n",
    "        super().__init__()\n",
    "        # Container to hold data\n",
    "        self.result = []\n",
    "    # customized the way to handle data\n",
    "    def handle_data(self, data):\n",
    "        self.result.append(data.strip())\n",
    "\n",
    "# __main__ segment\n",
    "' instantiate customized html parser '\n",
    "myParser = customizedParser()\n",
    "unparsed = '<div class=\"hero_PayRange__nKzVj\">₹35.0L<sub class=\"hero_PayLabel__UtI9Y\">/yr</sub></div>'\n",
    "# use feed function\n",
    "myParser.feed(unparsed)\n",
    "parsed = myParser.result\n",
    "print(parsed)"
   ]
  },
  {
   "cell_type": "markdown",
   "id": "44ecda52-16f2-4906-b5dd-bb422ef20671",
   "metadata": {},
   "source": [
    "# **Using levels.fyi**\n",
    "Let's try to open levels.fyi\n",
    "Sample link - ```https://www.levels.fyi/companies/google/salaries/software-engineer?country=254```"
   ]
  },
  {
   "cell_type": "code",
   "execution_count": 3,
   "id": "bc6be096-8bcd-4cd4-b9b8-51ffdc84bb5c",
   "metadata": {},
   "outputs": [],
   "source": [
    "from selenium import webdriver\n",
    "from selenium.webdriver.chrome.options import Options\n",
    "from selenium.webdriver.common.by import By\n",
    "from selenium.webdriver.support import expected_conditions as EC\n",
    "from selenium.webdriver.support.ui import WebDriverWait\n",
    "from bs4 import BeautifulSoup\n",
    "import time"
   ]
  },
  {
   "cell_type": "code",
   "execution_count": 44,
   "id": "77632463-b0a4-4527-a934-4b12a3d24909",
   "metadata": {},
   "outputs": [],
   "source": [
    "def do(company, job):\n",
    "    options = Options()\n",
    "    options.add_argument(\"--disable-gpu\")\n",
    "    driver = webdriver.Chrome(options = options)\n",
    "    url = f\"https://www.levels.fyi/companies/{company}/salaries/{job.replace(' ','-')}\"\n",
    "    driver.get(url)\n",
    "    driver.maximize_window()\n",
    "    time.sleep(2)\n",
    "    # get the raw html\n",
    "    response = driver.page_source\n",
    "    soup = BeautifulSoup(response, 'html.parser')\n",
    "    driver.close()\n",
    "    # get the table\n",
    "    table = soup.find('table', class_ = 'MuiTable-root css-1f6fkxk')\n",
    "    if not table:\n",
    "        return None\n",
    "    print('table found')\n",
    "    result = []\n",
    "    # find tbody\n",
    "    tbody = table.find('tbody', class_ = 'MuiTableBody-root job-family_tableBody__MaiIw css-1xnox0e')\n",
    "    if not tbody:\n",
    "        return None\n",
    "    print('found tbody')\n",
    "    # find all rows\n",
    "    rows = tbody.find_all('tr', class_ = 'MuiTableRow-root job-family_bodyRow__WuAug css-140sacz')\n",
    "    # traver each row\n",
    "    for row in rows:\n",
    "        # get columns as td value\n",
    "        col = row.find_all('td', class_ = 'MuiTableCell-root MuiTableCell-body MuiTableCell-alignLeft MuiTableCell-sizeMedium css-k1mugk')\n",
    "        # we want minimum results\n",
    "        if len(col) >= 5:\n",
    "            salary_record = {\n",
    "                'level': col[0].get_text(strip = True),\n",
    "                'Total': col[1].get_text(strip = True),\n",
    "                'Base': col[2].get_text(strip = True),\n",
    "                'Stock (/yr)': col[3].get_text(strip = True),\n",
    "                'Bonus': col[4].get_text(strip = True)\n",
    "            }\n",
    "            result.append(salary_record)\n",
    "    return result"
   ]
  },
  {
   "cell_type": "code",
   "execution_count": 55,
   "id": "544d83bf-b463-452d-9101-17554092d025",
   "metadata": {},
   "outputs": [
    {
     "name": "stdin",
     "output_type": "stream",
     "text": [
      "Enter company name :  microsoft\n",
      "Enter job :  software engineer\n"
     ]
    },
    {
     "name": "stdout",
     "output_type": "stream",
     "text": [
      "table found\n",
      "found tbody\n",
      "[{'level': 'SDE59(Entry Level)', 'Total': '₹13.87M', 'Base': '₹10.67M', 'Stock (/yr)': '₹2.43M', 'Bonus': '₹776K'}, {'level': '60', 'Total': '₹14.56M', 'Base': '₹11.28M', 'Stock (/yr)': '₹2.53M', 'Bonus': '₹753K'}, {'level': 'SDE II61', 'Total': '₹16.56M', 'Base': '₹12.65M', 'Stock (/yr)': '₹2.51M', 'Bonus': '₹1.4M'}, {'level': '62', 'Total': '₹17.83M', 'Base': '₹14.27M', 'Stock (/yr)': '₹2.35M', 'Bonus': '₹1.2M'}]\n"
     ]
    }
   ],
   "source": [
    "company = input('Enter company name : ')\n",
    "job = input('Enter job : ')\n",
    "print(do(company, job))"
   ]
  },
  {
   "cell_type": "markdown",
   "id": "e26fd91d-79e4-47e3-b195-a819db961725",
   "metadata": {},
   "source": [
    "### **We will also be expanding results using xpath**"
   ]
  },
  {
   "cell_type": "code",
   "execution_count": 9,
   "id": "19e4c3ba-970e-42a9-947f-504179e7d3c9",
   "metadata": {},
   "outputs": [],
   "source": [
    "def do(company, job):\n",
    "    options = Options()\n",
    "    options.add_argument(\"--disable-gpu\")\n",
    "    options.add_argument(\"--headless\")\n",
    "    driver = webdriver.Chrome(options = options)\n",
    "    url = f\"https://www.levels.fyi/companies/{company}/salaries/{job.replace(' ','-')}\"\n",
    "    driver.get(url)\n",
    "    driver.maximize_window()\n",
    "    \n",
    "    try:\n",
    "        # Wait for the clickable button\n",
    "        wait = WebDriverWait(driver, 10)\n",
    "        view_more_levels = wait.until(EC.element_to_be_clickable((By.XPATH, \"//a[@class='MuiButtonBase-root MuiButton-root MuiButton-text MuiButton-textNeutral MuiButton-sizeLarge MuiButton-textSizeLarge MuiButton-colorNeutral MuiButton-root MuiButton-text MuiButton-textNeutral MuiButton-sizeLarge MuiButton-textSizeLarge MuiButton-colorNeutral css-y5b368']\")))\n",
    "        view_more_levels.click()\n",
    "        print('clicked sir')\n",
    "        time.sleep(2)\n",
    "    except Exception as e:\n",
    "        print('button not found:', e)\n",
    "    # get the raw html\n",
    "    response = driver.page_source\n",
    "    soup = BeautifulSoup(response, 'html.parser')\n",
    "    driver.close()\n",
    "    # get the table\n",
    "    table = soup.find('table', class_ = 'MuiTable-root css-1f6fkxk')\n",
    "    if not table:\n",
    "        return None\n",
    "    print('table found')\n",
    "    result = []\n",
    "    # find tbody\n",
    "    tbody = table.find('tbody', class_ = 'MuiTableBody-root job-family_tableBody__MaiIw css-1xnox0e')\n",
    "    if not tbody:\n",
    "        return None\n",
    "    print('found tbody')\n",
    "    # find all rows\n",
    "    rows = tbody.find_all('tr', class_ = 'MuiTableRow-root job-family_bodyRow__WuAug css-140sacz')\n",
    "    # traver each row\n",
    "    for row in rows:\n",
    "        # get columns as td value\n",
    "        col = row.find_all('td', class_ = 'MuiTableCell-root MuiTableCell-body MuiTableCell-alignLeft MuiTableCell-sizeMedium css-k1mugk')\n",
    "        # we want minimum results\n",
    "        if len(col) >= 5:\n",
    "            salary_record = {\n",
    "                'level': col[0].get_text(strip = True),\n",
    "                'Total': col[1].get_text(strip = True),\n",
    "                'Base': col[2].get_text(strip = True),\n",
    "                'Stock (/yr)': col[3].get_text(strip = True),\n",
    "                'Bonus': col[4].get_text(strip = True)\n",
    "            }\n",
    "            result.append(salary_record)\n",
    "    return result"
   ]
  },
  {
   "cell_type": "code",
   "execution_count": 10,
   "id": "ba8ffb64-35a3-43a1-905a-be3fe3187279",
   "metadata": {},
   "outputs": [
    {
     "name": "stdout",
     "output_type": "stream",
     "text": [
      "clicked sir\n",
      "table found\n",
      "found tbody\n",
      "[{'level': 'SDE59(Entry Level)', 'Total': '₹13.87M', 'Base': '₹10.67M', 'Stock (/yr)': '₹2.43M', 'Bonus': '₹776K'}, {'level': '60', 'Total': '₹14.56M', 'Base': '₹11.28M', 'Stock (/yr)': '₹2.53M', 'Bonus': '₹753K'}, {'level': 'SDE II61', 'Total': '₹16.56M', 'Base': '₹12.65M', 'Stock (/yr)': '₹2.51M', 'Bonus': '₹1.4M'}, {'level': '62', 'Total': '₹17.83M', 'Base': '₹14.27M', 'Stock (/yr)': '₹2.35M', 'Bonus': '₹1.2M'}, {'level': 'Senior SDE63', 'Total': '₹19.99M', 'Base': '₹15.42M', 'Stock (/yr)': '₹2.95M', 'Bonus': '₹1.61M'}, {'level': '64', 'Total': '₹23.86M', 'Base': '₹16.73M', 'Stock (/yr)': '₹4.75M', 'Bonus': '₹2.38M'}, {'level': 'Principal SDE65', 'Total': '₹27.39M', 'Base': '₹18.18M', 'Stock (/yr)': '₹6.42M', 'Bonus': '₹2.79M'}, {'level': '66', 'Total': '₹32.91M', 'Base': '₹19.19M', 'Stock (/yr)': '₹10.67M', 'Bonus': '₹3.05M'}, {'level': '67', 'Total': '₹49.26M', 'Base': '₹21.83M', 'Stock (/yr)': '₹20.61M', 'Bonus': '₹6.81M'}, {'level': 'Partner68', 'Total': '₹69.86M', 'Base': '₹25.05M', 'Stock (/yr)': '₹34.37M', 'Bonus': '₹10.44M'}, {'level': '69', 'Total': '₹89.09M', 'Base': '₹24.75M', 'Stock (/yr)': '₹51.85M', 'Bonus': '₹12.5M'}, {'level': '70Distinguished Engineer', 'Total': '₹91.79M', 'Base': '₹30.03M', 'Stock (/yr)': '₹56.66M', 'Bonus': '₹5.1M'}, {'level': '80Technical Fellow', 'Total': '₹ --', 'Base': '₹ --', 'Stock (/yr)': '₹ --', 'Bonus': '₹ --'}]\n"
     ]
    }
   ],
   "source": [
    "print(do('microsoft', 'software engineer'))"
   ]
  },
  {
   "cell_type": "code",
   "execution_count": null,
   "id": "4ae5f10d-e566-49a1-a203-6c3e17c33bcb",
   "metadata": {},
   "outputs": [],
   "source": []
  }
 ],
 "metadata": {
  "kernelspec": {
   "display_name": "Python 3 (ipykernel)",
   "language": "python",
   "name": "python3"
  },
  "language_info": {
   "codemirror_mode": {
    "name": "ipython",
    "version": 3
   },
   "file_extension": ".py",
   "mimetype": "text/x-python",
   "name": "python",
   "nbconvert_exporter": "python",
   "pygments_lexer": "ipython3",
   "version": "3.12.8"
  }
 },
 "nbformat": 4,
 "nbformat_minor": 5
}
