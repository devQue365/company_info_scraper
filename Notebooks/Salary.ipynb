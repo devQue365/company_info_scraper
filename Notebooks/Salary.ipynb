{
 "cells": [
  {
   "cell_type": "markdown",
   "id": "f5d3d165-2420-4ac7-8a7f-9cc974308ea6",
   "metadata": {},
   "source": [
    "# --------Extract Salaries using scraping--------"
   ]
  },
  {
   "cell_type": "code",
   "execution_count": 2,
   "id": "7b75122e-26c3-4719-b05b-35d7fb233c6c",
   "metadata": {},
   "outputs": [],
   "source": [
    "from bs4 import BeautifulSoup\n",
    "from selenium import webdriver\n",
    "from selenium.webdriver.chrome.options import Options\n",
    "import time"
   ]
  },
  {
   "cell_type": "code",
   "execution_count": 3,
   "id": "9a6d3c1f-ca5c-4b75-beff-976df17c5400",
   "metadata": {},
   "outputs": [],
   "source": [
    "company_name = \"Apple\"\n",
    "job_title = \"Software engineer\"\n",
    "location = \"India\"\n",
    "# add headless option\n",
    "options = Options()\n",
    "# options.add_argument(\"--headless\")\n",
    "driver = webdriver.Chrome(options = options)\n",
    "# url = f\"https://www.glassdoor.co.in/Salary/Google-Software-Engineer-India-Salaries-EJI_IE9079.0,6_KO7,24_IL.25,30_IN115.htm\"\n",
    "# https://www.glassdoor.co.in/Salary/Apple-Software-Engineer-Salaries-E1138_D_KO6,23.htm\n",
    "url = f\"https://www.glassdoor.co.in/Salary/{company_name}-{job_title.replace(' ', '-')}-{location}-Salaries-EJI_IE9079.0,6_KO7,24_IL.25,30_IN115.htm\"\n",
    "\n",
    "driver.get(url)\n",
    "driver.maximize_window()\n",
    "# wait for the page to load completely\n",
    "time.sleep(2)\n",
    "# collect raw html\n",
    "response = driver.page_source\n",
    "# driver.close()"
   ]
  },
  {
   "cell_type": "markdown",
   "id": "f31fb911-a209-4a19-b571-27a816447ea8",
   "metadata": {},
   "source": [
    "## Now to parse and scan the html tree"
   ]
  },
  {
   "cell_type": "code",
   "execution_count": 9,
   "id": "bcf816db-a027-4e53-80d3-1490c3a03876",
   "metadata": {},
   "outputs": [],
   "source": [
    "import re\n",
    "from html.parser import HTMLParser\n",
    "\n",
    "class customizedParser(HTMLParser):\n",
    "    def __init__(self):\n",
    "        super().__init__()\n",
    "        self.result = []\n",
    "    def handle_data(self, data):\n",
    "        self.result.append(data)\n",
    "        \n",
    "def do():\n",
    "    company_name = \"Google\"\n",
    "    job_title = \"Software engineer\"\n",
    "    location = \"India\"\n",
    "    # add headless option\n",
    "    options = Options()\n",
    "    # options.add_argument(\"--headless\")\n",
    "    driver = webdriver.Chrome(options = options)\n",
    "    # url = f\"https://www.glassdoor.co.in/Salary/Google-Software-Engineer-India-Salaries-EJI_IE9079.0,6_KO7,24_IL.25,30_IN115.htm\"\n",
    "    url = f\"https://www.glassdoor.co.in/Salary/{company_name}-{job_title.replace(' ', '-')}-{location}-Salaries-EJI_IE9079.0,6_KO7,24_IL.25,30_IN115.htm\"\n",
    "    \n",
    "    driver.get(url)\n",
    "    driver.maximize_window()\n",
    "    # wait for the page to load completely\n",
    "    time.sleep(2)\n",
    "    # collect raw html\n",
    "    response = driver.page_source\n",
    "    # driver.close()\n",
    "    soup = BeautifulSoup(response, 'html.parser')\n",
    "    driver.close()\n",
    "    # Locate the section\n",
    "    section = soup.find(\"section\", class_ = \"hero_SubModule__wCYtE\")\n",
    "    # if the section is not present\n",
    "    if not section:\n",
    "        return {\n",
    "            \"error\" : \"No salary range defined\"\n",
    "        }\n",
    "    div = section.find('div', class_ = 'hero_TotalPayLayout__X55hl hero_PayRange__nKzVj')\n",
    "    div_salary_range = div.find_all('div', 'hero_PayRange__nKzVj')\n",
    "    # print(div_salary_range) # we got a list like\n",
    "    '''\n",
    "[<div class=\"hero_PayRange__nKzVj\">₹15.0L</div>, <div class=\"hero_PayRange__nKzVj\">-</div>, \n",
    "<div class=\"hero_PayRange__nKzVj\">₹35.0L<sub class=\"hero_PayLabel__UtI9Y\">/yr</sub></div>]\n",
    "    '''\n",
    "    salary = \"\"\n",
    "    for unparsed_data in div_salary_range:\n",
    "         # instantiating our customized HTM parser\n",
    "        parser = customizedParser()\n",
    "        # feed the unparsed data to parser\n",
    "        parser.feed(repr(unparsed_data))\n",
    "        # get the resultant list\n",
    "        salary += ' '.join(parser.result)\n",
    "    return salary"
   ]
  },
  {
   "cell_type": "code",
   "execution_count": 3,
   "id": "1354b63c-2217-4036-a92e-393e52a41e86",
   "metadata": {},
   "outputs": [
    {
     "name": "stdout",
     "output_type": "stream",
     "text": [
      "₹15.0L-₹35.0L /yr\n"
     ]
    }
   ],
   "source": [
    "print(do())"
   ]
  },
  {
   "cell_type": "code",
   "execution_count": 45,
   "id": "6c562acc-122c-43a4-84b3-8a12ce6399d8",
   "metadata": {},
   "outputs": [
    {
     "name": "stdout",
     "output_type": "stream",
     "text": [
      "₹35.0L/yr\n"
     ]
    }
   ],
   "source": [
    "from html.parser import HTMLParser\n",
    "\n",
    "class TextExtractor(HTMLParser):\n",
    "    def __init__(self):\n",
    "        super().__init__()\n",
    "        self.result = []\n",
    "\n",
    "    def handle_data(self, data):\n",
    "        self.result.append(data.strip())\n",
    "\n",
    "html = '<div class=\"hero_PayRange__nKzVj\">₹35.0L<sub class=\"hero_PayLabel__UtI9Y\">/yr</sub></div>'\n",
    "\n",
    "parser = TextExtractor()\n",
    "parser.feed(html)\n",
    "output = ''.join(parser.result)\n",
    "print(output)"
   ]
  },
  {
   "cell_type": "markdown",
   "id": "9136dca6-8f2c-4fea-9d5c-8bb0e228f01a",
   "metadata": {},
   "source": [
    "## **HTML Parser library**\n",
    "```html.parser -> feed()```"
   ]
  },
  {
   "cell_type": "code",
   "execution_count": 47,
   "id": "d92b2931-47c4-4060-b792-b4a4d850393b",
   "metadata": {},
   "outputs": [
    {
     "name": "stdout",
     "output_type": "stream",
     "text": [
      "['₹35.0L', '/yr']\n"
     ]
    }
   ],
   "source": [
    "from html.parser import HTMLParser\n",
    "# We need to customize the parser or else it contains blank placeholders\n",
    "class customizedParser(HTMLParser):\n",
    "    def __init__(self):\n",
    "        # Call parent class constructor\n",
    "        super().__init__()\n",
    "        # Container to hold data\n",
    "        self.result = []\n",
    "    # customized the way to handle data\n",
    "    def handle_data(self, data):\n",
    "        self.result.append(data.strip())\n",
    "\n",
    "# __main__ segment\n",
    "' instantiate customized html parser '\n",
    "myParser = customizedParser()\n",
    "unparsed = '<div class=\"hero_PayRange__nKzVj\">₹35.0L<sub class=\"hero_PayLabel__UtI9Y\">/yr</sub></div>'\n",
    "# use feed function\n",
    "myParser.feed(unparsed)\n",
    "parsed = myParser.result\n",
    "print(parsed)"
   ]
  },
  {
   "cell_type": "markdown",
   "id": "44ecda52-16f2-4906-b5dd-bb422ef20671",
   "metadata": {},
   "source": [
    "# **Using levels.fyi**\n",
    "Let's try to open levels.fyi\n",
    "Sample link - ```https://www.levels.fyi/companies/google/salaries/software-engineer?country=254```"
   ]
  },
  {
   "cell_type": "code",
   "execution_count": 1,
   "id": "bc6be096-8bcd-4cd4-b9b8-51ffdc84bb5c",
   "metadata": {},
   "outputs": [],
   "source": [
    "from selenium import webdriver\n",
    "from selenium.webdriver.chrome.options import Options\n",
    "from selenium.webdriver.common.by import By\n",
    "from selenium.webdriver.support import expected_conditions as EC\n",
    "from selenium.webdriver.support.ui import WebDriverWait\n",
    "from bs4 import BeautifulSoup\n",
    "import time"
   ]
  },
  {
   "cell_type": "code",
   "execution_count": 2,
   "id": "77632463-b0a4-4527-a934-4b12a3d24909",
   "metadata": {},
   "outputs": [],
   "source": [
    "def do(company, job):\n",
    "    options = Options()\n",
    "    options.add_argument(\"--disable-gpu\")\n",
    "    driver = webdriver.Chrome(options = options)\n",
    "    url = f\"https://www.levels.fyi/companies/{company}/salaries/{job.replace(' ','-')}\"\n",
    "    driver.get(url)\n",
    "    driver.maximize_window()\n",
    "    time.sleep(2)\n",
    "    # get the raw html\n",
    "    response = driver.page_source\n",
    "    soup = BeautifulSoup(response, 'html.parser')\n",
    "    # driver.close()\n",
    "    # get the table\n",
    "    table = soup.find('table', class_ = 'MuiTable-root css-1f6fkxk')\n",
    "    if not table:\n",
    "        return None\n",
    "    print('table found')\n",
    "    result = []\n",
    "    # find tbody\n",
    "    tbody = table.find('tbody', class_ = 'MuiTableBody-root job-family_tableBody__MaiIw css-1xnox0e')\n",
    "    if not tbody:\n",
    "        return None\n",
    "    print('found tbody')\n",
    "    # find all rows\n",
    "    rows = tbody.find_all('tr', class_ = 'MuiTableRow-root job-family_bodyRow__WuAug css-140sacz')\n",
    "    # traver each row\n",
    "    for row in rows:\n",
    "        # get columns as td value\n",
    "        col = row.find_all('td', class_ = 'MuiTableCell-root MuiTableCell-body MuiTableCell-alignLeft MuiTableCell-sizeMedium css-k1mugk')\n",
    "        # we want minimum results\n",
    "        if len(col) >= 5:\n",
    "            salary_record = {\n",
    "                'level': col[0].get_text(strip = True),\n",
    "                'Total': col[1].get_text(strip = True),\n",
    "                'Base': col[2].get_text(strip = True),\n",
    "                'Stock (/yr)': col[3].get_text(strip = True),\n",
    "                'Bonus': col[4].get_text(strip = True)\n",
    "            }\n",
    "            result.append(salary_record)\n",
    "    # return result"
   ]
  },
  {
   "cell_type": "code",
   "execution_count": 13,
   "id": "544d83bf-b463-452d-9101-17554092d025",
   "metadata": {},
   "outputs": [
    {
     "name": "stdin",
     "output_type": "stream",
     "text": [
      "Enter company name :  apple\n",
      "Enter job :  software engineer\n"
     ]
    },
    {
     "name": "stdout",
     "output_type": "stream",
     "text": [
      "table found\n",
      "found tbody\n",
      "None\n"
     ]
    }
   ],
   "source": [
    "company = input('Enter company name : ')\n",
    "job = input('Enter job : ')\n",
    "print(do(company, job))"
   ]
  },
  {
   "cell_type": "markdown",
   "id": "e26fd91d-79e4-47e3-b195-a819db961725",
   "metadata": {},
   "source": [
    "### **We will also be expanding results using xpath**"
   ]
  },
  {
   "cell_type": "code",
   "execution_count": 6,
   "id": "19e4c3ba-970e-42a9-947f-504179e7d3c9",
   "metadata": {},
   "outputs": [],
   "source": [
    "def do(company, job):\n",
    "    options = Options()\n",
    "    options.add_argument(\"--disable-gpu\")\n",
    "    # options.add_argument(\"--headless\")\n",
    "    driver = webdriver.Chrome(options = options)\n",
    "    url = f\"https://www.levels.fyi/companies/{company}/salaries/{job.replace(' ','-')}/locations/new-york\"\n",
    "    driver.get(url)\n",
    "    driver.maximize_window()\n",
    "    \n",
    "    try:\n",
    "        # Wait for the clickable button\n",
    "        wait = WebDriverWait(driver, 10)\n",
    "        view_more_levels = wait.until(EC.element_to_be_clickable((By.XPATH, \"//a[@class='MuiButtonBase-root MuiButton-root MuiButton-text MuiButton-textNeutral MuiButton-sizeLarge MuiButton-textSizeLarge MuiButton-colorNeutral MuiButton-root MuiButton-text MuiButton-textNeutral MuiButton-sizeLarge MuiButton-textSizeLarge MuiButton-colorNeutral css-y5b368']\")))\n",
    "        view_more_levels.click()\n",
    "        print('clicked sir')\n",
    "        time.sleep(2)\n",
    "    except Exception as e:\n",
    "        print('button not found:', e)\n",
    "    # get the raw html\n",
    "    response = driver.page_source\n",
    "    soup = BeautifulSoup(response, 'html.parser')\n",
    "    driver.close()\n",
    "    # get the table\n",
    "    table = soup.find('table', class_ = 'MuiTable-root css-1f6fkxk')\n",
    "    if not table:\n",
    "        return None\n",
    "    print('table found')\n",
    "    result = []\n",
    "    # find tbody\n",
    "    tbody = table.find('tbody', class_ = 'MuiTableBody-root job-family_tableBody__MaiIw css-1xnox0e')\n",
    "    if not tbody:\n",
    "        return None\n",
    "    print('found tbody')\n",
    "    # find all rows\n",
    "    rows = tbody.find_all('tr', class_ = 'MuiTableRow-root job-family_bodyRow__WuAug css-140sacz')\n",
    "    # traver each row\n",
    "    for row in rows:\n",
    "        # get columns as td value\n",
    "        col = row.find_all('td', class_ = 'MuiTableCell-root MuiTableCell-body MuiTableCell-alignLeft MuiTableCell-sizeMedium css-k1mugk')\n",
    "        # we want minimum results\n",
    "        if len(col) >= 5:\n",
    "            salary_record = {\n",
    "                'level': col[0].get_text(strip = True),\n",
    "                'Total': col[1].get_text(strip = True),\n",
    "                'Base': col[2].get_text(strip = True),\n",
    "                'Stock (/yr)': col[3].get_text(strip = True),\n",
    "                'Bonus': col[4].get_text(strip = True)\n",
    "            }\n",
    "            result.append(salary_record)\n",
    "    return result"
   ]
  },
  {
   "cell_type": "code",
   "execution_count": 7,
   "id": "ba8ffb64-35a3-43a1-905a-be3fe3187279",
   "metadata": {},
   "outputs": [
    {
     "name": "stdout",
     "output_type": "stream",
     "text": [
      "button not found: Message: \n",
      "Stacktrace:\n",
      "#0 0x5abccc06bc4a <unknown>\n",
      "#1 0x5abccbb116e0 <unknown>\n",
      "#2 0x5abccbb63117 <unknown>\n",
      "#3 0x5abccbb63311 <unknown>\n",
      "#4 0x5abccbbb1ec4 <unknown>\n",
      "#5 0x5abccbb88e5d <unknown>\n",
      "#6 0x5abccbbaf2cc <unknown>\n",
      "#7 0x5abccbb88c03 <unknown>\n",
      "#8 0x5abccbb5547b <unknown>\n",
      "#9 0x5abccbb560e1 <unknown>\n",
      "#10 0x5abccc0303fb <unknown>\n",
      "#11 0x5abccc03432f <unknown>\n",
      "#12 0x5abccc017f39 <unknown>\n",
      "#13 0x5abccc034ec8 <unknown>\n",
      "#14 0x5abccbffc68f <unknown>\n",
      "#15 0x5abccc0592b8 <unknown>\n",
      "#16 0x5abccc059496 <unknown>\n",
      "#17 0x5abccc06ab26 <unknown>\n",
      "#18 0x78e4f049caa4 <unknown>\n",
      "#19 0x78e4f0529c3c <unknown>\n",
      "\n",
      "None\n"
     ]
    }
   ],
   "source": [
    "print(do('microsoft', 'software engineer'))"
   ]
  },
  {
   "cell_type": "raw",
   "id": "6d32480a-29bb-46ed-9694-8474da3a034b",
   "metadata": {},
   "source": [
    "# ---------**Using API's only**----------"
   ]
  },
  {
   "cell_type": "code",
   "execution_count": 6,
   "id": "721ddc36-a6ca-4efa-902e-e74cd5832556",
   "metadata": {},
   "outputs": [],
   "source": [
    "import http.client\n",
    "import urllib.parse\n",
    "from pprint import pprint\n",
    "import json\n",
    "conn = http.client.HTTPSConnection(\"jsearch.p.rapidapi.com\")"
   ]
  },
  {
   "cell_type": "markdown",
   "id": "35c9d320-4428-47ee-a0e0-9624ca2cd59c",
   "metadata": {},
   "source": [
    "### _**Starting with Jsearch (Rapid API)**_\n",
    "<font color = 'red'>200 requests/month</font><br>\n",
    "[Note]: We will be using urllib.parse module to automatically encodes special characters and spaces like \"nodejs developer\" -> nodejs%20developer"
   ]
  },
  {
   "cell_type": "code",
   "execution_count": 7,
   "id": "acdc1a5f-447d-4ffa-b9eb-eed1fd1c5ba9",
   "metadata": {},
   "outputs": [],
   "source": [
    "url = \"jsearch.p.rapidapi.com\""
   ]
  },
  {
   "cell_type": "code",
   "execution_count": 8,
   "id": "179d6029-2f67-4211-b3f6-eea3818aedba",
   "metadata": {},
   "outputs": [],
   "source": [
    "headers = {\n",
    "    'x-rapidapi-key': \"7ee1c65373msh181b4a01f21d239p1e5ff7jsnc2f07e071e6d\",\n",
    "    'x-rapidapi-host': \"jsearch.p.rapidapi.com\"\n",
    "}"
   ]
  },
  {
   "cell_type": "markdown",
   "id": "3eda7b8d-b6e2-4633-beb1-dda929360c76",
   "metadata": {},
   "source": [
    "```conn.request(\"GET\", \"/company-job-salary?company=Amazon&job_title=software%20developer&location_type=ANY&years_of_experience=ALL\", headers=headers)```"
   ]
  },
  {
   "cell_type": "code",
   "execution_count": 9,
   "id": "a97e1e8e-468a-4835-9340-1c15a8c51c1f",
   "metadata": {},
   "outputs": [],
   "source": [
    "parameters = {\n",
    "    'company': 'Apple',\n",
    "    'job_title': 'software engineer',\n",
    "    'location' : 'New York',\n",
    "    'location_type': 'ANY',\n",
    "    'years_of_experience': 'ALL',\n",
    "}"
   ]
  },
  {
   "cell_type": "markdown",
   "id": "08a0de03-c669-4f1f-ad45-8c0c0b13d639",
   "metadata": {},
   "source": [
    "Now, encode the parameters into a query string such that it is url-safe"
   ]
  },
  {
   "cell_type": "code",
   "execution_count": 10,
   "id": "4846cff6-4738-4a4f-a755-27affc0d3053",
   "metadata": {},
   "outputs": [
    {
     "name": "stdout",
     "output_type": "stream",
     "text": [
      "company=Apple&job_title=software+engineer&location=New+York&location_type=ANY&years_of_experience=ALL\n"
     ]
    }
   ],
   "source": [
    "url_safe_query = urllib.parse.urlencode(parameters)\n",
    "print(url_safe_query)"
   ]
  },
  {
   "cell_type": "code",
   "execution_count": 11,
   "id": "2d849ffd-5a99-43e4-8804-0af27b342bd8",
   "metadata": {},
   "outputs": [
    {
     "name": "stdout",
     "output_type": "stream",
     "text": [
      "b'{\"status\":\"OK\",\"request_id\":\"4422f117-55cf-4ae6-b9c2-fb636b8927b9\",\"data\":[{\"location\":\"New York City, NY\",\"job_title\":\"Software Engineer\",\"company\":\"Apple\",\"min_salary\":228183.85,\"max_salary\":374313.83,\"median_salary\":289326.03,\"min_base_salary\":149955.72,\"max_base_salary\":228287.99,\"median_base_salary\":185021.86,\"min_additional_pay\":78228.13,\"max_additional_pay\":146025.84,\"median_additional_pay\":104304.17,\"salary_period\":\"YEAR\",\"salary_currency\":\"USD\",\"confidence\":\"CONFIDENT\",\"salary_count\":303}]}'\n"
     ]
    }
   ],
   "source": [
    "import json\n",
    "conn.request(\"GET\", f\"/company-job-salary?{url_safe_query}\", headers=headers)\n",
    "# conn.request(\"GET\", f\"/estimated-salary?{url_safe_query}\", headers=headers)\n",
    "res = conn.getresponse()\n",
    "data = res.read()\n",
    "type(data)\n",
    "print(data)"
   ]
  },
  {
   "cell_type": "code",
   "execution_count": 12,
   "id": "95e3eb4a-5b6d-42aa-a084-847a8f88dadf",
   "metadata": {},
   "outputs": [
    {
     "data": {
      "text/plain": [
       "dict"
      ]
     },
     "execution_count": 12,
     "metadata": {},
     "output_type": "execute_result"
    }
   ],
   "source": [
    "output_dict = json.loads(data)\n",
    "type(output_dict)"
   ]
  },
  {
   "cell_type": "code",
   "execution_count": 13,
   "id": "97e20ac3-da79-4898-a224-f5fe5fd007f3",
   "metadata": {},
   "outputs": [],
   "source": [
    "from pprint import pprint"
   ]
  },
  {
   "cell_type": "code",
   "execution_count": 14,
   "id": "618d7f4d-052b-43f2-83f0-b62639bcafea",
   "metadata": {
    "scrolled": true
   },
   "outputs": [
    {
     "name": "stdout",
     "output_type": "stream",
     "text": [
      "{'company': 'Apple',\n",
      " 'confidence': 'CONFIDENT',\n",
      " 'job_title': 'Software Engineer',\n",
      " 'location': 'New York City, NY',\n",
      " 'max_additional_pay': 146025.84,\n",
      " 'max_base_salary': 228287.99,\n",
      " 'max_salary': 374313.83,\n",
      " 'median_additional_pay': 104304.17,\n",
      " 'median_base_salary': 185021.86,\n",
      " 'median_salary': 289326.03,\n",
      " 'min_additional_pay': 78228.13,\n",
      " 'min_base_salary': 149955.72,\n",
      " 'min_salary': 228183.85,\n",
      " 'salary_count': 303,\n",
      " 'salary_currency': 'USD',\n",
      " 'salary_period': 'YEAR'}\n"
     ]
    }
   ],
   "source": [
    "pprint(output_dict['data'][0])"
   ]
  },
  {
   "cell_type": "markdown",
   "id": "50b99759-801a-466f-bd41-018693096823",
   "metadata": {},
   "source": [
    "### _**Starting with CareerJet API**_\n",
    "<font color = 'red'>1000 requests per hour.</font>"
   ]
  },
  {
   "cell_type": "code",
   "execution_count": 21,
   "id": "9c5857fc-4de7-494c-ae2e-53fce4a6e241",
   "metadata": {},
   "outputs": [],
   "source": [
    "import requests\n",
    "\n",
    "url = \"http://public.api.careerjet.net/search\"\n",
    "\n",
    "params = {\n",
    "    \"locale_code\": \"en_US\",\n",
    "    \"keywords\": \"software engineer Apple\",\n",
    "    \"location\": \"new york\",\n",
    "    \"affid\": \"09a7e99d93482b93310a29944476cd33\",  \n",
    "    \"user_ip\": \"1.2.3.4\",        \n",
    "    \"user_agent\": \"Mozilla/5.0\", \n",
    "    \"pagesize\": 10,              \n",
    "    \"page\": 1\n",
    "}\n",
    "\n",
    "response = requests.get(url, params=params)\n",
    "data = response.json()"
   ]
  },
  {
   "cell_type": "code",
   "execution_count": 22,
   "id": "6b7927bb-71cc-4db2-b27f-d81f6a6f0711",
   "metadata": {},
   "outputs": [
    {
     "data": {
      "text/plain": [
       "{'jobs': [{'salary_min': '90000',\n",
       "   'locations': 'Hudson Falls, NY',\n",
       "   'salary_type': 'Y',\n",
       "   'date': 'Mon, 05 May 2025 07:13:14 GMT',\n",
       "   'description': ':   As an Infrastructure <b>Engineer</b>, you will be expected to demonstrate professional expertise in designing, building, and supporting enterprise... and recommend network hardware, systems management <b>software</b>, and architecture.   4. Build, configure, and maintain network switches...',\n",
       "   'salary_currency_code': 'USD',\n",
       "   'salary': '$90000 per year',\n",
       "   'site': '',\n",
       "   'url': 'https://jobviewtrack.com/en-us/job-1818416443021d0f540052160b151b15000031060e1a444e585f2f2101094e1a45061a6327090352151b1d015f4849585f016e5f11411755/3460c4da95e3071946d20ca342490d35.html?affid=09a7e99d93482b93310a29944476cd33',\n",
       "   'title': 'Infrastructure Engineer (Req #: 1061)',\n",
       "   'salary_max': '90000',\n",
       "   'company': 'Peckham Industries'},\n",
       "  {'locations': 'New York City, NY',\n",
       "   'site': '',\n",
       "   'date': 'Mon, 19 May 2025 02:32:21 GMT',\n",
       "   'url': 'https://jobviewtrack.com/en-us/job-191a417e48071a1c4e0059432d0f090e0b45111a6b1a65781d684303060042115261012e3d470c6f276a28035a47580d680a0807491145116a320b0410521d1c10721b1d0a151e/c7037d8a4bee6000a6bbeeeba9cf76a3.html?affid=09a7e99d93482b93310a29944476cd33',\n",
       "   'title': 'iOS Engineer, Apple Pay Security',\n",
       "   'description': \" across <b>Apple</b>'s products and services.   Description   We're looking for an iOS <b>Engineer</b> to build on next generation identity...Imagine what you could do here! At <b>Apple</b>, new ideas and insights have a way of quickly becoming extraordinary products...\",\n",
       "   'company': 'Apple',\n",
       "   'salary': ''},\n",
       "  {'locations': 'New York City, NY',\n",
       "   'site': '',\n",
       "   'date': 'Thu, 08 May 2025 05:20:59 GMT',\n",
       "   'url': 'https://jobviewtrack.com/en-us/job-491a4168430306004211520a06064e340a46001f08014f0b78434a0d010b4206223007071a10045211482c1d4d42534848166d2a460041432d0f090e0b45111a6b20454d495a4c160a4e621a470a06040b150c4e136a2c1d4d425348481606004054650d0f080002005275595f441218/bafc9705a9fbb23183434df942dae266.html?affid=09a7e99d93482b93310a29944476cd33',\n",
       "   'title': 'Software Engineer (Data Engineering)',\n",
       "   'description': ' effective advertising while protecting user privacy. We are looking for an ambitious and versatile <b>Software</b> <b>Engineer</b> who... and publishers. We are looking for a <b>Software</b> <b>Engineer</b> to build the future of our real-time stream processing systems. As a part...',\n",
       "   'company': 'Apple',\n",
       "   'salary': ''},\n",
       "  {'locations': 'New York City, NY',\n",
       "   'site': '',\n",
       "   'date': 'Wed, 21 May 2025 05:53:08 GMT',\n",
       "   'url': 'https://jobviewtrack.com/en-us/job-1e12417e480a06015554730c0e1519061745542d0714434558485f663c1e48065410483201011157151a0c536f455a4443010a1c25274f051c160f15000031060e1a444e585f2f370a004e1b52432d0f090e0b45111a6b204f4554425f443c01410057021a046f5653174c5b/6b7b34bc35d59869b84813d25cecaf0f.html?affid=09a7e99d93482b93310a29944476cd33',\n",
       "   'title': 'Senior Software Engineer - AppleTV Sports',\n",
       "   'description': ' is looking for an experienced Backend <b>Engineer</b> to help redefine how users experience sports through the <b>Apple</b> Sports app, <b>Apple</b> TV...<b>Apple</b> is where individual imaginations gather to build innovative products, services, and experiences that enrich lives...',\n",
       "   'company': 'Apple',\n",
       "   'salary': ''},\n",
       "  {'locations': 'New York City, NY',\n",
       "   'site': '',\n",
       "   'date': 'Sat, 24 May 2025 03:08:23 GMT',\n",
       "   'url': 'https://jobviewtrack.com/en-us/job-181b417e42021b19460645432c041802094f04050c1d5e0b78434a0d010b4206223007071a10045211482c1d4d42534848166d3d4812541409130b472145020d051c5a46584359662b0b51114c0c180c0b09110031060e1a444e585f2f2101094e1a45061a605f51521847/b778cf239a431a75d85f20424cd43c92.html?affid=09a7e99d93482b93310a29944476cd33',\n",
       "   'title': 'Software Development Engineer',\n",
       "   'description': 'Imagine what you can do here. <b>Apple</b> is a place where extraordinary people gather to do their lives best work. Together... of those people and their ideas that inspires the innovation that runs through everything we do.   Description   <b>APPLE</b> INC has the...',\n",
       "   'company': 'Apple',\n",
       "   'salary': ''},\n",
       "  {'salary_min': '151819',\n",
       "   'locations': 'New York City, NY',\n",
       "   'salary_type': 'Y',\n",
       "   'date': 'Sat, 24 May 2025 02:55:24 GMT',\n",
       "   'description': ' <b>software</b> solutions to vet the most promising. 40 hours/week. At <b>Apple</b>, base pay is one part of our total compensation package... and analysis  Root cause analysis of <b>software</b> system failures and defects    Preferred Qualifications    N/A    <b>Apple</b> is an equal...',\n",
       "   'salary_currency_code': 'USD',\n",
       "   'salary': '$151819 - 214500 per year',\n",
       "   'site': '',\n",
       "   'url': 'https://jobviewtrack.com/en-us/job-181b417e42021b19460645432c041802094f04050c1d5e0b78434a0d010b4206223007071a10045211482c1d4d42534848166d3d4812541409130b472145020d051c5a46584359662b0b51114c0c180c0b09110031060e1a444e585f2f2101094e1a45061a605f51521847/205027f7ede6e46f6c90f68385e4dfc0.html?affid=09a7e99d93482b93310a29944476cd33',\n",
       "   'title': 'Software Development Engineer',\n",
       "   'salary_max': '214500',\n",
       "   'company': 'Apple'},\n",
       "  {'locations': 'New York City, NY',\n",
       "   'site': '',\n",
       "   'date': 'Fri, 11 Apr 2025 22:43:23 GMT',\n",
       "   'url': 'https://jobviewtrack.com/en-us/job-131f417e42021b19460645432d0f090e0b45111a6b36444c544348011d6c741b46171f001c026411425f5140/66710389da52339493a328e125cb79c7.html?affid=09a7e99d93482b93310a29944476cd33',\n",
       "   'title': 'Software Engineer, Ad Platforms',\n",
       "   'description': \"At <b>Apple</b>, we believe in the power of technology to enrich people's lives. Everything we build is designed to empower... advertising possible on the App Store, <b>Apple</b> News, Stocks, and <b>Apple</b> TV. We help developers and marketers of all sizes drive app...\",\n",
       "   'company': 'Apple',\n",
       "   'salary': ''},\n",
       "  {'locations': 'New York City, NY',\n",
       "   'site': '',\n",
       "   'date': 'Thu, 10 Apr 2025 06:47:28 GMT',\n",
       "   'url': 'https://jobviewtrack.com/en-us/job-491f417e480a06015554730c0e1519061745542d0714434558485f663c01410057021a044e220b471d060c1658296e48430d001c07314e04010f0b021722270d071a45591d7e42021b19460645612d0f090e0b45111a68421c1c051e/5cdbf8243687281e29f3d6fd142f80af.html?affid=09a7e99d93482b93310a29944476cd33',\n",
       "   'title': 'Senior Software Engineer, Ad Platforms',\n",
       "   'description': \"At <b>Apple</b>, we believe in the power of technology to enrich people's lives. Everything we build is designed to empower... advertising possible on the App Store, <b>Apple</b> News, Stocks, and <b>Apple</b> TV. We help developers and marketers of all sizes drive app...\",\n",
       "   'company': 'Apple',\n",
       "   'salary': ''},\n",
       "  {'locations': 'New York City, NY',\n",
       "   'site': '',\n",
       "   'date': 'Sat, 26 Apr 2025 04:44:58 GMT',\n",
       "   'url': 'https://jobviewtrack.com/en-us/job-491d417e42021b19460645432d0f090e0b45111a6b374b5f5c0d680a0807491145116a2400000c4e110d1b7179445b595a051d0b2530411709605f51521847/4f3968b0cb893604509e3f8dd707d2cf.html?affid=09a7e99d93482b93310a29944476cd33',\n",
       "   'title': 'Software Engineer - ML Data',\n",
       "   'description': \"At <b>Apple</b>, we focus deeply on our customers' experience. <b>Apple</b> Ads brings this same approach to advertising, helping... and sponsorships across <b>Apple</b> Services, including the App Store, <b>Apple</b> News, and MLS Season Pass. Everything we do is designed...\",\n",
       "   'company': 'Apple',\n",
       "   'salary': ''},\n",
       "  {'locations': 'New York City, NY',\n",
       "   'site': '',\n",
       "   'date': 'Thu, 10 Apr 2025 07:16:25 GMT',\n",
       "   'url': 'https://jobviewtrack.com/en-us/job-1919417e480a06015554730c0e1519061745542d0714434558485f663c01410057021a044e220b471d060c1658296e48430d001c07314e04010f0b021722270d071a45591d7e42021b19460645612e13010911451a0c4936444c544348011d6f1642175b5b/d6742d941743f6336cec0a58ac3812f8.html?affid=09a7e99d93482b93310a29944476cd33',\n",
       "   'title': 'Senior Software Engineer Frontend, Ad Platforms',\n",
       "   'description': \"At <b>Apple</b>, we believe in the power of technology to enrich people's lives. Everything we build is designed to empower... advertising possible on the App Store, <b>Apple</b> News, Stocks, and <b>Apple</b> TV. We help developers and marketers of all sizes drive app...\",\n",
       "   'company': 'Apple',\n",
       "   'salary': ''}],\n",
       " 'hits': 37,\n",
       " 'response_time': 0.195525884628296,\n",
       " 'type': 'JOBS',\n",
       " 'pages': 4}"
      ]
     },
     "execution_count": 22,
     "metadata": {},
     "output_type": "execute_result"
    }
   ],
   "source": [
    "data"
   ]
  },
  {
   "cell_type": "code",
   "execution_count": 3,
   "id": "5d539c89-a496-49c4-90c4-035dc1e98b4a",
   "metadata": {},
   "outputs": [],
   "source": [
    "def transform_job_listings(data):\n",
    "    jobs = data.get('jobs', [])\n",
    "    if not jobs:\n",
    "        return {}\n",
    "\n",
    "    company = jobs[0].get('company', None)\n",
    "    location = jobs[0].get('locations', None)\n",
    "    currency = jobs[0].get('salary_currency_code', None)\n",
    "    salary_type = jobs[0].get('salary_type', None)\n",
    "    job_title = 'Software Engineer'  # Normalize for this dataset\n",
    "\n",
    "    # Extract base salaries (assumes salary_min == salary_max for each job)\n",
    "    base_salaries = []\n",
    "    for job in jobs:\n",
    "        try:\n",
    "            salary = float(job.get('salary_min') or 0)\n",
    "            base_salaries.append(salary)\n",
    "        except ValueError:\n",
    "            continue\n",
    "\n",
    "    if not base_salaries:\n",
    "        return {}\n",
    "\n",
    "    min_base = min(base_salaries)\n",
    "    max_base = max(base_salaries)\n",
    "    median_base = sorted(base_salaries)[len(base_salaries) // 2]\n",
    "\n",
    "    return {\n",
    "        'company': company,\n",
    "        # 'confidence': 'CONFIDENT',  # Assumed\n",
    "        'job_title': job_title,\n",
    "        'location': location,\n",
    "        # 'max_additional_pay': None,  # Not provided in data\n",
    "        'max_base_salary': max_base,\n",
    "        # 'max_salary': max_base,\n",
    "        # 'median_additional_pay': None,\n",
    "        'median_base_salary': median_base,\n",
    "        # 'median_salary': median_base,\n",
    "        # 'min_additional_pay': None,\n",
    "        # 'min_base_salary': min_base,\n",
    "        # 'min_salary': min_base,\n",
    "        # 'salary_count': len(base_salaries),\n",
    "        'salary_currency': currency,\n",
    "        'salary_period': 'YEAR' if salary_type == 'Y' else None\n",
    "    }"
   ]
  },
  {
   "cell_type": "markdown",
   "id": "9adaca2e-fa4e-4a47-8467-43fde4c63c0a",
   "metadata": {},
   "source": [
    "Since the dataset does not include additional pay (e.g., bonuses, stock), we'll assume:\n",
    "\n",
    "    additional_pay is 0 for all listings (and therefore min_salary = base, max_salary = base, etc.).\n",
    "\n",
    "    confidence is assumed CONFIDENT since it's a large number of listings from a reputable source.\n",
    "\n",
    "    job_title is normalized as Software Engineer."
   ]
  },
  {
   "cell_type": "code",
   "execution_count": 7,
   "id": "4fd0a61b-6f73-4e95-942a-083653f02c2c",
   "metadata": {
    "scrolled": true
   },
   "outputs": [
    {
     "data": {
      "text/plain": [
       "{'jobs': [{'salary_min': '151300',\n",
       "   'locations': 'New York City, NY',\n",
       "   'salary_type': 'Y',\n",
       "   'date': 'Wed, 21 May 2025 06:31:35 GMT',\n",
       "   'description': '. This is an opportunity to make a significant impact on the future of the <b>Amazon</b> vision.   As a Senior <b>Software</b> <b>Engineer</b>, you will drive the...DESCRIPTION   <b>Amazon</b> is investing heavily in building a world class advertising business and we are responsible...',\n",
       "   'salary_currency_code': 'USD',\n",
       "   'salary': '$151300 per year',\n",
       "   'site': '',\n",
       "   'url': 'https://jobviewtrack.com/en-us/job-194d417e480a06015554730c0e1519061745542d0714434558485f663c01410057021a044e220b471d060c1658296e48430d001c07314e04010f0b021722270d071a45591d7e42021b1946064561290c0f1d0a4e542d0714434558485f655e58104c13/d444ebe9994582edd3a15b3fe94820b2.html?affid=09a7e99d93482b93310a29944476cd33',\n",
       "   'title': 'Senior Software Engineer (SDEIII), Amazon Ads',\n",
       "   'salary_max': '151300',\n",
       "   'company': 'Amazon'},\n",
       "  {'salary_min': '151300',\n",
       "   'locations': 'New York City, NY',\n",
       "   'salary_type': 'Y',\n",
       "   'date': 'Thu, 15 May 2025 04:18:27 GMT',\n",
       "   'description': ' <b>engineer</b> to design and implement the technology for a new <b>Amazon</b> business. We are looking for a Sr. <b>Software</b> Development... coverage and full CI/CD pipelines.   A day in the life  As a Sr. <b>Software</b> Development <b>Engineer</b> on this team, you will create...',\n",
       "   'salary_currency_code': 'USD',\n",
       "   'salary': '$151300 per year',\n",
       "   'site': '',\n",
       "   'url': 'https://jobviewtrack.com/en-us/job-194d417e480a06015554730c0e1519061745542d0714434558485f663c01410057021a044e220b471d060c1658296e48430d001c07314e04010f0b021722270d071a45591d7e42021b1946064561290c0f1d0a4e542d0714434558485f655e58104c13/8bd7578fdf5250dd682dccb3fdecd81a.html?affid=09a7e99d93482b93310a29944476cd33',\n",
       "   'title': 'Senior Software Engineer, Amazon Autos',\n",
       "   'salary_max': '151300',\n",
       "   'company': 'Amazon'},\n",
       "  {'salary_min': '129300',\n",
       "   'locations': 'New York City, NY',\n",
       "   'salary_type': 'Y',\n",
       "   'date': 'Thu, 01 May 2025 22:02:26 GMT',\n",
       "   'description': 'DESCRIPTION   <b>Amazon</b> Advertising operates at the intersection of eCommerce and advertising, offering a rich array.... We help advertisers reach <b>Amazon</b> customers on <b>Amazon</b>.com, across our other owned and operated sites, on other high quality...',\n",
       "   'salary_currency_code': 'USD',\n",
       "   'salary': '$129300 per year',\n",
       "   'site': '',\n",
       "   'url': 'https://jobviewtrack.com/en-us/job-1c4e417e42021b19460645432c041802094f04050c1d5e0b78434a0d010b4206223007071a10045211482c1d4d42534848166d3d4812541409130b472145020d051c5a46584359662b0b51114c0c180c0b09110031060e1a444e585f2f2101094e1a45061a412b1f154506010c1d494e3c1c1b53575d/fb7d30a595104c08b08906312346c3d8.html?affid=09a7e99d93482b93310a29944476cd33',\n",
       "   'title': 'Software Development Engineer - Amazon Ads, Recommendation Experience, Amazon Ads',\n",
       "   'salary_max': '129300',\n",
       "   'company': 'Amazon'},\n",
       "  {'salary_min': '129300',\n",
       "   'locations': 'New York City, NY',\n",
       "   'salary_type': 'Y',\n",
       "   'date': 'Thu, 22 May 2025 04:55:54 GMT',\n",
       "   'description': \" looking for talented engineers to join <b>Amazon</b> Privacy Services, where we build and operate critical privacy infrastructure at massive scale....   Our team designs and implements privacy-preserving services that are fundamental to <b>Amazon</b>'s operations. We work on systems...\",\n",
       "   'salary_currency_code': 'USD',\n",
       "   'salary': '$129300 per year',\n",
       "   'site': '',\n",
       "   'url': 'https://jobviewtrack.com/en-us/job-1c13417e42021b19460645432c041802094f04050c1d5e0b78434a0d010b4206223007071a10045211482c1d4d42534848164f276e76730c0e1519061745542d0714434558485f663c01410057021a044e23005611040603474e53592f200a1842184f130504001345651a0f001d4f4e4f2c1c52585614/26f089b1d55dc9cfe62a7426e19e87ef.html?affid=09a7e99d93482b93310a29944476cd33',\n",
       "   'title': 'Software Development Engineer II, Amazon Privacy Services',\n",
       "   'salary_max': '129300',\n",
       "   'company': 'Amazon'},\n",
       "  {'salary_min': '129300',\n",
       "   'locations': 'New York City, NY',\n",
       "   'salary_type': 'Y',\n",
       "   'date': 'Wed, 21 May 2025 02:10:43 GMT',\n",
       "   'description': ' problems with extensible <b>software</b> solutions . If you are interested in being part of <b>Amazon</b> Advertising and building services...DESCRIPTION   <b>Amazon</b> Advertising operates at the intersection of e-Commerce and Advertising, offering a range...',\n",
       "   'salary_currency_code': 'USD',\n",
       "   'salary': '$129300 per year',\n",
       "   'site': '',\n",
       "   'url': 'https://jobviewtrack.com/en-us/job-1c4e417e42021b19460645432c041802094f04050c1d5e0b78434a0d010b4206223007071a10045211482c1d4d42534848166d3d4812541409130b472145020d051c5a46584359662b0b51114c0c180c0b09110031060e1a444e585f2f2101094e1a45061a412b1f154506010c1d494e3c1c1b53575d/41138e39af55959aa58c0cbde7fc6c3f.html?affid=09a7e99d93482b93310a29944476cd33',\n",
       "   'title': 'Software Development Engineer, Partner Experience and Growth, Amazon Ads',\n",
       "   'salary_max': '129300',\n",
       "   'company': 'Amazon'},\n",
       "  {'salary_min': '129300',\n",
       "   'locations': 'New York City, NY',\n",
       "   'salary_type': 'Y',\n",
       "   'date': 'Sat, 17 May 2025 23:25:44 GMT',\n",
       "   'description': \" <b>Amazon</b>'s unique experience and expertise, that are used by millions of companies worldwide to manage day-to-day operations... that solve enduring business challenges. We blend vision with curiosity and <b>Amazon</b>'s real-world experience to build opinionated...\",\n",
       "   'salary_currency_code': 'USD',\n",
       "   'salary': '$129300 per year',\n",
       "   'site': '',\n",
       "   'url': 'https://jobviewtrack.com/en-us/job-4b1f417e42021b19460645432c041802094f04050c1d5e0b78434a0d010b4206223007071a10045211482c1d4d42534848166d3d4812541409130b472145020d051c5a46584359662b0b51114c0c180c0b09110031060e1a444e585f2f25020f5d1b4e432d0f090e0b45111a68421c1c051e/ea22fcd7a9f042d2a3af16d2aa1a3f3d.html?affid=09a7e99d93482b93310a29944476cd33',\n",
       "   'title': 'Software Development Engineer, Amazon Connect',\n",
       "   'salary_max': '129300',\n",
       "   'company': 'Amazon'},\n",
       "  {'salary_min': '129300',\n",
       "   'locations': 'New York City, NY',\n",
       "   'salary_type': 'Y',\n",
       "   'date': 'Fri, 16 May 2025 07:11:50 GMT',\n",
       "   'description': '.   As part of <b>Amazon</b> Advertising, we build ad products that help advertisers reach their target audiences on worldwide live... events properties. Our <b>software</b> development engineers architect and design sophisticated distributed <b>software</b> systems...',\n",
       "   'salary_currency_code': 'USD',\n",
       "   'salary': '$129300 per year',\n",
       "   'site': '',\n",
       "   'url': 'https://jobviewtrack.com/en-us/job-1819417e42021b19460645432d0f090e0b45111a493a63296e424b10180f55110026060607090045066a251a5c4e1d685b01011a5476650d0f0800020052542120716b465c57420a4f2b4913490d0d041c66541643505a/e78aa5b7bbdc1c4296efa61258152615.html?affid=09a7e99d93482b93310a29944476cd33',\n",
       "   'title': 'Software Dev Engineer II, Live Events Amazon Advertising',\n",
       "   'salary_max': '129300',\n",
       "   'company': 'Amazon'},\n",
       "  {'salary_min': '129300',\n",
       "   'locations': 'New York City, NY',\n",
       "   'salary_type': 'Y',\n",
       "   'date': 'Fri, 16 May 2025 02:41:43 GMT',\n",
       "   'description': \" looking for talented engineers to join <b>Amazon</b> Privacy Services, where we build and operate critical privacy infrastructure at massive scale....   Our team designs and implements privacy-preserving services that are fundamental to <b>Amazon</b>'s operations. We work on systems...\",\n",
       "   'salary_currency_code': 'USD',\n",
       "   'salary': '$129300 per year',\n",
       "   'site': '',\n",
       "   'url': 'https://jobviewtrack.com/en-us/job-1c13417e42021b19460645432c041802094f04050c1d5e0b78434a0d010b4206223007071a10045211482c1d4d42534848164f276e76730c0e1519061745542d0714434558485f663c01410057021a044e23005611040603474e53592f200a1842184f130504001345651a0f001d4f4e4f2c1c52585614/e6ab41eee9c774e3d0aabe51d6cbc7f6.html?affid=09a7e99d93482b93310a29944476cd33',\n",
       "   'title': 'Software Development Engineer II, Amazon Privacy Services',\n",
       "   'salary_max': '129300',\n",
       "   'company': 'Amazon'},\n",
       "  {'salary_min': '129300',\n",
       "   'locations': 'New York City, NY',\n",
       "   'salary_type': 'Y',\n",
       "   'date': 'Thu, 08 May 2025 23:49:31 GMT',\n",
       "   'description': \" needle?   At <b>Amazon</b>, we hire the best minds in technology to innovate and build on behalf of our customers. The focus... we have on our customers is why we are one of the world's most beloved brands - customer obsession is part of our company DNA. Our <b>Software</b>...\",\n",
       "   'salary_currency_code': 'USD',\n",
       "   'salary': '$129300 per year',\n",
       "   'site': '',\n",
       "   'url': 'https://jobviewtrack.com/en-us/job-4e1e417e42021b19460645432d0f090e0b45111a6b32474a474243442a00401d4e060d136c340a46001f08014f0b79485b662a00401d4e060d136c340a46001f08014f2a0c1b1a5c5c/6019f6ba7baa3e95f04eb064e6bd03e3.html?affid=09a7e99d93482b93310a29944476cd33',\n",
       "   'title': 'Software Dev Engineer, Amazon',\n",
       "   'salary_max': '129300',\n",
       "   'company': 'Amazon'},\n",
       "  {'salary_min': '129300',\n",
       "   'locations': 'New York City, NY',\n",
       "   'salary_type': 'Y',\n",
       "   'date': 'Thu, 24 Apr 2025 23:02:08 GMT',\n",
       "   'description': \"DESCRIPTION   The Forge team provides tools, services and frameworks for one of <b>Amazon</b>'s fastest growing businesses...), as well as partners, agencies, and <b>Amazon</b>'s marketing and sales teams, who operate globally and across all device types...\",\n",
       "   'salary_currency_code': 'USD',\n",
       "   'salary': '$129300 per year',\n",
       "   'site': '',\n",
       "   'url': 'https://jobviewtrack.com/en-us/job-1c1f416b5808034e7400410003412a0213451807191658296e424b10180f551100270d170b0b0a50190d07070a6e534a440a0a0b55766616040d4e34114117034936444c544348011d6c741b46171f001c024564111e0c1f455b585f0d2101094e1a45061a632812094c543b1d1249401d6948120a0248044d0606156f5653174c5b/da6a9b7031773d401b5a567129f90bf5.html?affid=09a7e99d93482b93310a29944476cd33',\n",
       "   'title': 'Software Development Engineer/Full Stack developer, Amazon Ads, Campaign Creation, Campaign Creation (Amazon Ads)',\n",
       "   'salary_max': '129300',\n",
       "   'company': 'Amazon'}],\n",
       " 'hits': 123,\n",
       " 'response_time': 0.204469919204712,\n",
       " 'type': 'JOBS',\n",
       " 'pages': 13}"
      ]
     },
     "execution_count": 7,
     "metadata": {},
     "output_type": "execute_result"
    }
   ],
   "source": [
    "# type(data)\n",
    "data\n",
    "# transform_job_listings(data)"
   ]
  },
  {
   "cell_type": "markdown",
   "id": "82f9a5e2-98ea-49af-b39f-ebc466f2f195",
   "metadata": {},
   "source": [
    "### _**Glass door real time API** (Unofficial API)_\n",
    "<font color = 'red'>200 requests/month</font>"
   ]
  },
  {
   "cell_type": "code",
   "execution_count": 15,
   "id": "51a2fec2-2798-4201-bdab-4ef82632550c",
   "metadata": {},
   "outputs": [],
   "source": [
    "import http.client\n",
    "import urllib.parse"
   ]
  },
  {
   "cell_type": "code",
   "execution_count": 2,
   "id": "c4a61223-6b99-4a8b-ad07-fef42632de5b",
   "metadata": {},
   "outputs": [],
   "source": [
    "# define the connection\n",
    "conn = http.client.HTTPSConnection(\"glassdoor-real-time.p.rapidapi.com\")"
   ]
  },
  {
   "cell_type": "code",
   "execution_count": 3,
   "id": "638afa10-20be-4548-9ae3-2c0ec89a6b0c",
   "metadata": {},
   "outputs": [],
   "source": [
    "# define the headers\n",
    "headers = {\n",
    "    'x-rapidapi-key': \"7ee1c65373msh181b4a01f21d239p1e5ff7jsnc2f07e071e6d\",\n",
    "    'x-rapidapi-host': \"glassdoor-real-time.p.rapidapi.com\"\n",
    "}"
   ]
  },
  {
   "cell_type": "markdown",
   "id": "5b42ebb1-1bbd-4d6f-abe3-10ec5cc68bf0",
   "metadata": {},
   "source": [
    "**First of all we need to work on locationId**"
   ]
  },
  {
   "cell_type": "code",
   "execution_count": 4,
   "id": "d74a32c9-c769-468b-95ca-50da7796cc1c",
   "metadata": {},
   "outputs": [
    {
     "name": "stdout",
     "output_type": "stream",
     "text": [
      "query=new+york\n"
     ]
    }
   ],
   "source": [
    "params = {\n",
    "    'query' : 'new york'\n",
    "}\n",
    "url_safe_query = urllib.parse.urlencode(params)\n",
    "print(url_safe_query)"
   ]
  },
  {
   "cell_type": "code",
   "execution_count": 5,
   "id": "f397bec5-70a9-4f7e-9fb5-be9cfe11aba6",
   "metadata": {},
   "outputs": [],
   "source": [
    "conn.request(\"GET\", f\"/jobs/location?{url_safe_query}\", headers=headers)"
   ]
  },
  {
   "cell_type": "code",
   "execution_count": 6,
   "id": "ddd0da15-80e2-4525-996c-63f9fb628ae8",
   "metadata": {},
   "outputs": [
    {
     "name": "stdout",
     "output_type": "stream",
     "text": [
      "{'data': [{'countryId': 1, 'locationId': 'eyJ0IjoiQyIsImlkIjoxMTMyMzQ4LCJuIjoiTmV3IFlvcmssIE5ZIn0=', 'locationName': 'New York, NY', 'locationType': 'C'}, {'countryId': 1, 'locationId': 'eyJ0IjoiUyIsImlkIjo0MjgsIm4iOiJOZXcgWW9yayBTdGF0ZSJ9', 'locationName': 'New York State', 'locationType': 'S'}, {'countryId': 1, 'locationId': 'eyJ0IjoiQyIsImlkIjoxMTMyOTEzLCJuIjoiTmV3IFlvcmsgTWlsbHMsIE5ZIn0=', 'locationName': 'New York Mills, NY', 'locationType': 'C'}, {'countryId': 1, 'locationId': 'eyJ0IjoiQyIsImlkIjoxMTQyNDI0LCJuIjoiTmV3IFlvcmsgTWlsbHMsIE1OIn0=', 'locationName': 'New York Mills, MN', 'locationType': 'C'}, {'countryId': 1, 'locationId': 'eyJ0IjoiQyIsImlkIjozNzMyMDk3LCJuIjoiTmV3IFlvcmssIE1PIn0=', 'locationName': 'New York, MO', 'locationType': 'C'}, {'countryId': 1, 'locationId': 'eyJ0IjoiQyIsImlkIjozODE3Nzc3LCJuIjoiTmV3IFlvcmssIEZMIn0=', 'locationName': 'New York, FL', 'locationType': 'C'}, {'countryId': 1, 'locationId': 'eyJ0IjoiQyIsImlkIjo1MDIyMTM1LCJuIjoiTWlkdG93biBOZXcgWW9yaywgTlkifQ==', 'locationName': 'Midtown New York, NY', 'locationType': 'C'}, {'countryId': 1, 'locationId': 'eyJ0IjoiQyIsImlkIjozNzUwMzMzLCJuIjoiTmV3IFlvcmssIEtZIn0=', 'locationName': 'New York, KY', 'locationType': 'C'}, {'countryId': 1, 'locationId': 'eyJ0IjoiQyIsImlkIjozNzYyMDU3LCJuIjoiTmV3IFlvcmssIFRYIn0=', 'locationName': 'New York, TX', 'locationType': 'C'}, {'countryId': 1, 'locationId': 'eyJ0IjoiQyIsImlkIjozNzUzMjAzLCJuIjoiTmV3IFlvcmssIE5NIn0=', 'locationName': 'New York, NM', 'locationType': 'C'}], 'status': True, 'message': 'Successful'}\n"
     ]
    }
   ],
   "source": [
    "import json\n",
    "res = conn.getresponse()\n",
    "data = res.read()\n",
    "output_dict = json.loads(data)\n",
    "print(output_dict)"
   ]
  },
  {
   "cell_type": "markdown",
   "id": "338c4785-7574-4ec9-8c6d-cee6ec9568ed",
   "metadata": {},
   "source": [
    "```output_dict['data'][0]['locationId']```"
   ]
  },
  {
   "cell_type": "code",
   "execution_count": 7,
   "id": "c855c7b9-b476-403d-abd9-c7e0ede3807a",
   "metadata": {},
   "outputs": [
    {
     "data": {
      "text/plain": [
       "'eyJ0IjoiQyIsImlkIjoxMTMyMzQ4LCJuIjoiTmV3IFlvcmssIE5ZIn0='"
      ]
     },
     "execution_count": 7,
     "metadata": {},
     "output_type": "execute_result"
    }
   ],
   "source": [
    "output_dict['data'][0]['locationId']"
   ]
  },
  {
   "cell_type": "markdown",
   "id": "f541cfaa-5d2a-47e8-9dfa-e013c99eb8c9",
   "metadata": {},
   "source": [
    "**Now let us focus on getting the salary data**"
   ]
  },
  {
   "cell_type": "code",
   "execution_count": 8,
   "id": "3fb62f3b-924d-4c2d-ad85-7e074eb87565",
   "metadata": {},
   "outputs": [],
   "source": [
    "params = {\n",
    "    'query' : 'microsoft software engineer',\n",
    "    'locationId': output_dict['data'][0]['locationId'],\n",
    "    'limit': 10,\n",
    "    'page': 1,\n",
    "    'sort' : 'POPULAR'\n",
    "}"
   ]
  },
  {
   "cell_type": "code",
   "execution_count": 9,
   "id": "9aae5346-4129-4b0c-8ef9-276ad9ac1abe",
   "metadata": {},
   "outputs": [
    {
     "name": "stdout",
     "output_type": "stream",
     "text": [
      "query=microsoft+software+engineer&locationId=eyJ0IjoiQyIsImlkIjoxMTMyMzQ4LCJuIjoiTmV3IFlvcmssIE5ZIn0%3D&limit=10&page=1&sort=POPULAR\n"
     ]
    }
   ],
   "source": [
    "url_safe_query = urllib.parse.urlencode(params)\n",
    "print(url_safe_query)"
   ]
  },
  {
   "cell_type": "code",
   "execution_count": 10,
   "id": "ade2cd15-7757-4744-890a-aa9b9e1313c8",
   "metadata": {},
   "outputs": [],
   "source": [
    "conn.request(\"GET\", f\"/salaries/search?{url_safe_query}\", headers=headers)"
   ]
  },
  {
   "cell_type": "code",
   "execution_count": 11,
   "id": "7a44d186-cdae-470c-97b2-be3ed1079e63",
   "metadata": {
    "scrolled": true
   },
   "outputs": [
    {
     "name": "stdout",
     "output_type": "stream",
     "text": [
      "{\"data\":{\"aggregateSalaryResponse\":{\"numPages\":105,\"queryLocation\":{\"id\":1132348,\"name\":\"New York, NY\",\"type\":\"CITY\"},\"resultCount\":1041,\"results\":[{\"basePayStatistics\":{\"mean\":160980.7},\"currency\":{\"code\":\"USD\",\"id\":1},\"employer\":{\"counts\":{\"globalJobCount\":{\"jobCount\":742}},\"id\":1651,\"name\":\"Microsoft Corporation\",\"ratings\":{\"overallRating\":4.2},\"shortName\":\"Microsoft\",\"squareLogoUrl\":\"https://media.glassdoor.com/sql/1651/microsoft-squarelogo-1479856042252.png\"},\"jobTitle\":{\"gocId\":100063,\"id\":4279,\"text\":\"Software Engineer\"},\"payPeriod\":\"ANNUAL\",\"totalAdditionalPayStatistics\":{\"mean\":57123.0},\"totalPayStatistics\":{\"__typename\":\"StatisticsResult\",\"percentiles\":[{\"ident\":\"P10\",\"value\":151869.73},{\"ident\":\"P25\",\"value\":179986.26},{\"ident\":\"P50\",\"value\":218103.7},{\"ident\":\"P75\",\"value\":268932.58},{\"ident\":\"P90\",\"value\":322786.2}]},\"salaryId\":\"eyJjaWQiOjExMzIzNDgsInR5cGUiOiJDSVRZIiwiZUlkIjoxNjUxLCJuIjoiTWljcm9zb2Z0IiwianQiOiJTb2Z0d2FyZSBFbmdpbmVlciIsImppIjo0Mjc5LCJnSSI6MTAwMDYzfQ==\"},{\"basePayStatistics\":{\"mean\":171008.83},\"currency\":{\"code\":\"USD\",\"id\":1},\"employer\":{\"counts\":{\"globalJobCount\":{\"jobCount\":742}},\"id\":1651,\"name\":\"Microsoft Corporation\",\"ratings\":{\"overallRating\":4.2},\"shortName\":\"Microsoft\",\"squareLogoUrl\":\"https://media.glassdoor.com/sql/1651/microsoft-squarelogo-1479856042252.png\"},\"jobTitle\":{\"gocId\":100253,\"id\":61585,\"text\":\"Product Manager\"},\"payPeriod\":\"ANNUAL\",\"totalAdditionalPayStatistics\":{\"mean\":63853.16},\"totalPayStatistics\":{\"__typename\":\"StatisticsResult\",\"percentiles\":[{\"ident\":\"P10\",\"value\":167210.95},{\"ident\":\"P25\",\"value\":196016.29},{\"ident\":\"P50\",\"value\":234861.99},{\"ident\":\"P75\",\"value\":286820.51},{\"ident\":\"P90\",\"value\":341500.93}]},\"salaryId\":\"eyJjaWQiOjExMzIzNDgsInR5cGUiOiJDSVRZIiwiZUlkIjoxNjUxLCJuIjoiTWljcm9zb2Z0IiwianQiOiJQcm9kdWN0IE1hbmFnZXIiLCJqaSI6NjE1ODUsImdJIjoxMDAyNTN9\"},{\"basePayStatistics\":{\"mean\":198162.34},\"currency\":{\"code\":\"USD\",\"id\":1},\"employer\":{\"counts\":{\"globalJobCount\":{\"jobCount\":742}},\"id\":1651,\"name\":\"Microsoft Corporation\",\"ratings\":{\"overallRating\":4.2},\"shortName\":\"Microsoft\",\"squareLogoUrl\":\"https://media.glassdoor.com/sql/1651/microsoft-squarelogo-1479856042252.png\"},\"jobTitle\":{\"gocId\":100063,\"id\":17959,\"text\":\"Senior Software Engineer\"},\"payPeriod\":\"ANNUAL\",\"totalAdditionalPayStatistics\":{\"mean\":83699.71},\"totalPayStatistics\":{\"__typename\":\"StatisticsResult\",\"percentiles\":[{\"ident\":\"P10\",\"value\":202530.4},{\"ident\":\"P25\",\"value\":236292.54},{\"ident\":\"P50\",\"value\":281862.05},{\"ident\":\"P75\",\"value\":343486.76},{\"ident\":\"P90\",\"value\":408185.08}]},\"salaryId\":\"eyJjaWQiOjExMzIzNDgsInR5cGUiOiJDSVRZIiwiZUlkIjoxNjUxLCJuIjoiTWljcm9zb2Z0IiwianQiOiJTZW5pb3IgU29mdHdhcmUgRW5naW5lZXIiLCJqaSI6MTc5NTksImdJIjoxMDAwNjN9\"},{\"basePayStatistics\":{\"mean\":128132.24},\"currency\":{\"code\":\"USD\",\"id\":1},\"employer\":{\"counts\":{\"globalJobCount\":{\"jobCount\":742}},\"id\":1651,\"name\":\"Microsoft Corporation\",\"ratings\":{\"overallRating\":4.2},\"shortName\":\"Microsoft\",\"squareLogoUrl\":\"https://media.glassdoor.com/sql/1651/microsoft-squarelogo-1479856042252.png\"},\"jobTitle\":{\"gocId\":100167,\"id\":30270,\"text\":\"Software Developer\"},\"payPeriod\":\"ANNUAL\",\"totalAdditionalPayStatistics\":{\"mean\":12619.4},\"totalPayStatistics\":{\"__typename\":\"StatisticsResult\",\"percentiles\":[{\"ident\":\"P10\",\"value\":91514.86},{\"ident\":\"P25\",\"value\":112180.36},{\"ident\":\"P50\",\"value\":140751.64},{\"ident\":\"P75\",\"value\":177504.98},{\"ident\":\"P90\",\"value\":218090.27}]},\"salaryId\":\"eyJjaWQiOjExMzIzNDgsInR5cGUiOiJDSVRZIiwiZUlkIjoxNjUxLCJuIjoiTWljcm9zb2Z0IiwianQiOiJTb2Z0d2FyZSBEZXZlbG9wZXIiLCJqaSI6MzAyNzAsImdJIjoxMDAxNjd9\"},{\"basePayStatistics\":{\"mean\":180863.93},\"currency\":{\"code\":\"USD\",\"id\":1},\"employer\":{\"counts\":{\"globalJobCount\":{\"jobCount\":742}},\"id\":1651,\"name\":\"Microsoft Corporation\",\"ratings\":{\"overallRating\":4.2},\"shortName\":\"Microsoft\",\"squareLogoUrl\":\"https://media.glassdoor.com/sql/1651/microsoft-squarelogo-1479856042252.png\"},\"jobTitle\":{\"gocId\":100689,\"id\":455828,\"text\":\"Cloud Solution Architect\"},\"payPeriod\":\"ANNUAL\",\"totalAdditionalPayStatistics\":{\"mean\":53939.99},\"totalPayStatistics\":{\"__typename\":\"StatisticsResult\",\"percentiles\":[{\"ident\":\"P10\",\"value\":165561.31},{\"ident\":\"P25\",\"value\":195067.56},{\"ident\":\"P50\",\"value\":234803.92},{\"ident\":\"P75\",\"value\":287088.45},{\"ident\":\"P90\",\"value\":342325.8}]},\"salaryId\":\"eyJjaWQiOjExMzIzNDgsInR5cGUiOiJDSVRZIiwiZUlkIjoxNjUxLCJuIjoiTWljcm9zb2Z0IiwianQiOiJDbG91ZCBTb2x1dGlvbiBBcmNoaXRlY3QiLCJqaSI6NDU1ODI4LCJnSSI6MTAwNjg5fQ==\"},{\"basePayStatistics\":{\"mean\":132679.99},\"currency\":{\"code\":\"USD\",\"id\":1},\"employer\":{\"counts\":{\"globalJobCount\":{\"jobCount\":742}},\"id\":1651,\"name\":\"Microsoft Corporation\",\"ratings\":{\"overallRating\":4.2},\"shortName\":\"Microsoft\",\"squareLogoUrl\":\"https://media.glassdoor.com/sql/1651/microsoft-squarelogo-1479856042252.png\"},\"jobTitle\":{\"gocId\":100078,\"id\":37856,\"text\":\"Project Manager\"},\"payPeriod\":\"ANNUAL\",\"totalAdditionalPayStatistics\":{\"mean\":30525.96},\"totalPayStatistics\":{\"__typename\":\"StatisticsResult\",\"percentiles\":[{\"ident\":\"P10\",\"value\":104697.61},{\"ident\":\"P25\",\"value\":129132.94},{\"ident\":\"P50\",\"value\":163205.95},{\"ident\":\"P75\",\"value\":208438.84},{\"ident\":\"P90\",\"value\":258224.45}]},\"salaryId\":\"eyJjaWQiOjExMzIzNDgsInR5cGUiOiJDSVRZIiwiZUlkIjoxNjUxLCJuIjoiTWljcm9zb2Z0IiwianQiOiJQcm9qZWN0IE1hbmFnZXIiLCJqaSI6Mzc4NTYsImdJIjoxMDAwNzh9\"},{\"basePayStatistics\":{\"mean\":134149.41},\"currency\":{\"code\":\"USD\",\"id\":1},\"employer\":{\"counts\":{\"globalJobCount\":{\"jobCount\":742}},\"id\":1651,\"name\":\"Microsoft Corporation\",\"ratings\":{\"overallRating\":4.2},\"shortName\":\"Microsoft\",\"squareLogoUrl\":\"https://media.glassdoor.com/sql/1651/microsoft-squarelogo-1479856042252.png\"},\"jobTitle\":{\"gocId\":100132,\"id\":15225,\"text\":\"Account Manager\"},\"payPeriod\":\"ANNUAL\",\"totalAdditionalPayStatistics\":{\"mean\":75520.63},\"totalPayStatistics\":{\"__typename\":\"StatisticsResult\",\"percentiles\":[{\"ident\":\"P10\",\"value\":133290.25},{\"ident\":\"P25\",\"value\":165036.77},{\"ident\":\"P50\",\"value\":209670.04},{\"ident\":\"P75\",\"value\":271749.89},{\"ident\":\"P90\",\"value\":339302.41}]},\"salaryId\":\"eyJjaWQiOjExMzIzNDgsInR5cGUiOiJDSVRZIiwiZUlkIjoxNjUxLCJuIjoiTWljcm9zb2Z0IiwianQiOiJBY2NvdW50IE1hbmFnZXIiLCJqaSI6MTUyMjUsImdJIjoxMDAxMzJ9\"},{\"basePayStatistics\":{\"mean\":150327.26},\"currency\":{\"code\":\"USD\",\"id\":1},\"employer\":{\"counts\":{\"globalJobCount\":{\"jobCount\":742}},\"id\":1651,\"name\":\"Microsoft Corporation\",\"ratings\":{\"overallRating\":4.2},\"shortName\":\"Microsoft\",\"squareLogoUrl\":\"https://media.glassdoor.com/sql/1651/microsoft-squarelogo-1479856042252.png\"},\"jobTitle\":{\"gocId\":100155,\"id\":61502,\"text\":\"Program Manager\"},\"payPeriod\":\"ANNUAL\",\"totalAdditionalPayStatistics\":{\"mean\":47100.29},\"totalPayStatistics\":{\"__typename\":\"StatisticsResult\",\"percentiles\":[{\"ident\":\"P10\",\"value\":140065.55},{\"ident\":\"P25\",\"value\":164524.11},{\"ident\":\"P50\",\"value\":197427.55},{\"ident\":\"P75\",\"value\":240851.25},{\"ident\":\"P90\",\"value\":286626.46}]},\"salaryId\":\"eyJjaWQiOjExMzIzNDgsInR5cGUiOiJDSVRZIiwiZUlkIjoxNjUxLCJuIjoiTWljcm9zb2Z0IiwianQiOiJQcm9ncmFtIE1hbmFnZXIiLCJqaSI6NjE1MDIsImdJIjoxMDAxNTV9\"},{\"basePayStatistics\":{\"mean\":146489.54},\"currency\":{\"code\":\"USD\",\"id\":1},\"employer\":{\"counts\":{\"globalJobCount\":{\"jobCount\":742}},\"id\":1651,\"name\":\"Microsoft Corporation\",\"ratings\":{\"overallRating\":4.2},\"shortName\":\"Microsoft\",\"squareLogoUrl\":\"https://media.glassdoor.com/sql/1651/microsoft-squarelogo-1479856042252.png\"},\"jobTitle\":{\"gocId\":100063,\"id\":4513,\"text\":\"Software Engineer II\"},\"payPeriod\":\"ANNUAL\",\"totalAdditionalPayStatistics\":{\"mean\":38469.7},\"totalPayStatistics\":{\"__typename\":\"StatisticsResult\",\"percentiles\":[{\"ident\":\"P10\",\"value\":143438.6},{\"ident\":\"P25\",\"value\":161387.86},{\"ident\":\"P50\",\"value\":184959.24},{\"ident\":\"P75\",\"value\":215770.2},{\"ident\":\"P90\",\"value\":247563.44}]},\"salaryId\":\"eyJjaWQiOjExMzIzNDgsInR5cGUiOiJDSVRZIiwiZUlkIjoxNjUxLCJuIjoiTWljcm9zb2Z0IiwianQiOiJTb2Z0d2FyZSBFbmdpbmVlciBJSSIsImppIjo0NTEzLCJnSSI6MTAwMDYzfQ==\"},{\"basePayStatistics\":{\"mean\":169848.56},\"currency\":{\"code\":\"USD\",\"id\":1},\"employer\":{\"counts\":{\"globalJobCount\":{\"jobCount\":742}},\"id\":1651,\"name\":\"Microsoft Corporation\",\"ratings\":{\"overallRating\":4.2},\"shortName\":\"Microsoft\",\"squareLogoUrl\":\"https://media.glassdoor.com/sql/1651/microsoft-squarelogo-1479856042252.png\"},\"jobTitle\":{\"gocId\":102609,\"id\":63697,\"text\":\"Manager\"},\"payPeriod\":\"ANNUAL\",\"totalAdditionalPayStatistics\":{\"mean\":27235.55},\"totalPayStatistics\":{\"__typename\":\"StatisticsResult\",\"percentiles\":[{\"ident\":\"P10\",\"value\":128569.98},{\"ident\":\"P25\",\"value\":157331.02},{\"ident\":\"P50\",\"value\":197084.11},{\"ident\":\"P75\",\"value\":248850.1},{\"ident\":\"P90\",\"value\":305650.87}]},\"salaryId\":\"eyJjaWQiOjExMzIzNDgsInR5cGUiOiJDSVRZIiwiZUlkIjoxNjUxLCJuIjoiTWljcm9zb2Z0IiwianQiOiJNYW5hZ2VyIiwiamkiOjYzNjk3LCJnSSI6MTAyNjA5fQ==\"}]},\"lashedJobTitle\":null,\"occSalaryResponse\":null},\"meta\":{\"currentPage\":1,\"limit\":10,\"totalRecords\":1041,\"totalPage\":105},\"status\":true,\"message\":\"Successful\"}\n"
     ]
    }
   ],
   "source": [
    "res = conn.getresponse()\n",
    "data = res.read()\n",
    "print(data.decode('utf-8'))"
   ]
  },
  {
   "cell_type": "markdown",
   "id": "f9d4e29d-9e36-4fdb-ab72-64829f672e01",
   "metadata": {},
   "source": [
    "### **Transform to valuable dictionary**"
   ]
  },
  {
   "cell_type": "code",
   "execution_count": 39,
   "id": "a76a50b5-2b09-43de-8796-d74bf3dc5860",
   "metadata": {},
   "outputs": [],
   "source": [
    "def transform_salary_data(full_data):\n",
    "    results = full_data['data']['aggregateSalaryResponse']['results']\n",
    "    location = full_data['data']['aggregateSalaryResponse']['queryLocation']['name']\n",
    "    salary_count = full_data['data']['aggregateSalaryResponse']['resultCount']\n",
    "    \n",
    "    output = []\n",
    "    \n",
    "    for job in results:\n",
    "        job_title = job['jobTitle']['text']\n",
    "        employer = job['employer']['name']\n",
    "        currency = job['currency']['code']\n",
    "        pay_period = job['payPeriod']\n",
    "\n",
    "        base = job['basePayStatistics']['mean']\n",
    "        additional = job['totalAdditionalPayStatistics']['mean']\n",
    "        total_percentiles = {p['ident']: p['value'] for p in job['totalPayStatistics']['percentiles']}\n",
    "\n",
    "        record = {\n",
    "            'company': employer,\n",
    "            'confidence': 'CONFIDENT',  # Assuming high confidence from Glassdoor data\n",
    "            'job_title': job_title,\n",
    "            'location': location,\n",
    "            'min_base_salary': round(total_percentiles['P10'] - additional, 2),\n",
    "            'median_base_salary': round(total_percentiles['P50'] - additional, 2),\n",
    "            'max_base_salary': round(total_percentiles['P90'] - additional, 2),\n",
    "            'min_additional_pay': round(additional * 0.85, 2),  # Approximation\n",
    "            'median_additional_pay': round(additional, 2),\n",
    "            'max_additional_pay': round(additional * 1.3, 2),   # Approximation\n",
    "            'min_salary': round(total_percentiles['P10'], 2),\n",
    "            'median_salary': round(total_percentiles['P50'], 2),\n",
    "            'max_salary': round(total_percentiles['P90'], 2),\n",
    "            'salary_count': salary_count,\n",
    "            'salary_currency': currency,\n",
    "            'salary_period': 'YEAR' if pay_period == 'ANNUAL' else pay_period\n",
    "        }\n",
    "\n",
    "        output.append(record)\n",
    "\n",
    "    return output\n"
   ]
  },
  {
   "cell_type": "code",
   "execution_count": 40,
   "id": "34f8ca5b-f0cb-46ea-b784-7a2762e8f847",
   "metadata": {},
   "outputs": [],
   "source": [
    "def transform(entry, location_name):\n",
    "    company = entry[\"employer\"][\"shortName\"]\n",
    "    job_title = entry[\"jobTitle\"][\"text\"]\n",
    "    currency = entry[\"currency\"][\"code\"]\n",
    "    pay_period = entry[\"payPeriod\"].lower()\n",
    "    rating = entry[\"employer\"][\"ratings\"].get(\"overallRating\", None)\n",
    "\n",
    "    # Extract salary stats\n",
    "    base_mean = entry[\"basePayStatistics\"].get(\"mean\", 0)\n",
    "    base_median = entry[\"basePayStatistics\"].get(\"median\", 0)\n",
    "    base_min = entry[\"basePayStatistics\"].get(\"min\", 0)\n",
    "    base_max = entry[\"basePayStatistics\"].get(\"max\", 0)\n",
    "\n",
    "    additional_mean = entry[\"totalAdditionalPayStatistics\"].get(\"mean\", 0)\n",
    "    additional_median = entry[\"totalAdditionalPayStatistics\"].get(\"median\", 0)\n",
    "    additional_min = entry[\"totalAdditionalPayStatistics\"].get(\"min\", 0)\n",
    "    additional_max = entry[\"totalAdditionalPayStatistics\"].get(\"max\", 0)\n",
    "\n",
    "    # Compute total salaries\n",
    "    total_mean = entry[\"totalPayStatistics\"].get(\"mean\", base_mean + additional_mean)\n",
    "    total_median = base_median + additional_median\n",
    "    total_min = base_min + additional_min\n",
    "    total_max = base_max + additional_max\n",
    "\n",
    "    simplified = {\n",
    "        \"company\": company,\n",
    "        \"job_title\": job_title,\n",
    "        \"location\": location_name,\n",
    "        \"salary_currency\": currency,\n",
    "        \"salary_period\": pay_period,\n",
    "        \"salary_range\": f\"{currency} {int(total_min):,} - {int(total_max):,}\",\n",
    "        \"median_salary\": f\"{currency} {int(total_median):,}\",\n",
    "        \"mean_salary\": f\"{currency} {int(total_mean):,}\"\n",
    "    }\n",
    "\n",
    "    if rating:\n",
    "        simplified[\"company_rating\"] = rating\n",
    "\n",
    "    return simplified\n"
   ]
  },
  {
   "cell_type": "code",
   "execution_count": 62,
   "id": "3db83927-9555-403c-bccf-392096cddd07",
   "metadata": {
    "scrolled": true
   },
   "outputs": [
    {
     "data": {
      "text/plain": [
       "http.client.HTTPResponse"
      ]
     },
     "execution_count": 62,
     "metadata": {},
     "output_type": "execute_result"
    }
   ],
   "source": [
    "# output_dict = json.loads(data)\n",
    "type(data)\n",
    "type(res)\n",
    "# output_dict = transform(output_dict, 'new york')\n",
    "# print(output_dict)\n",
    "# data = output_dict[\"data\"][\"aggregateSalaryResponse\"]\n",
    "# location_name = data[\"queryLocation\"][\"name\"]\n",
    "# entry = data[\"results\"][0]\n",
    "# ans = transform(entry, location_name)\n",
    "# print(ans)"
   ]
  },
  {
   "cell_type": "code",
   "execution_count": 46,
   "id": "ceb05631-fe63-41dc-9363-504dca1afcf4",
   "metadata": {},
   "outputs": [],
   "source": [
    "## **GlassDoor V2**"
   ]
  },
  {
   "cell_type": "code",
   "execution_count": 16,
   "id": "b024d372-86a6-49cd-8c1f-05393028439b",
   "metadata": {},
   "outputs": [],
   "source": [
    "def glassDoor__v2(company, job_title, location):\n",
    "    conn = http.client.HTTPSConnection(\"real-time-glassdoor-data.p.rapidapi.com\")\n",
    "    headers = {\n",
    "        'x-rapidapi-key': \"7ee1c65373msh181b4a01f21d239p1e5ff7jsnc2f07e071e6d\",\n",
    "        'x-rapidapi-host': \"real-time-glassdoor-data.p.rapidapi.com\"\n",
    "    }\n",
    "    # first get the company ID --> [1st API call]\n",
    "    query_params = {\n",
    "        'query': company,\n",
    "        'limit': 1,\n",
    "        'domain': 'www.glassdoor.com'\n",
    "    }\n",
    "    url_safe_query = urllib.parse.urlencode(query_params)\n",
    "    # make a request to get company_id\n",
    "    conn.request(\"GET\", f\"/company-search?{url_safe_query}\", headers=headers)\n",
    "    res = conn.getresponse()\n",
    "    data = res.read() # byte-string\n",
    "    output_dict = json.loads(data) # dict-format\n",
    "    # go to the data section\n",
    "    data = output_dict.get('data',{})\n",
    "    company_id = data[0].get('company_id',None)\n",
    "\n",
    "    # Now start for salary-info search ---> [2nd API Call]\n",
    "    query_params = {\n",
    "        'company_id': company_id,\n",
    "        'job_title': job_title,\n",
    "        'location': location,\n",
    "        'location_type' : 'ANY',\n",
    "        'years_of_experience' : 'ALL',\n",
    "        'domain': 'www.glassdoor.com'\n",
    "    }\n",
    "    url_safe_query = urllib.parse.urlencode(query_params)\n",
    "    # request to get salary data\n",
    "    conn.request(\"GET\", f\"/company-salaries?{url_safe_query}\", headers=headers)\n",
    "    res = conn.getresponse()\n",
    "    data = res.read()\n",
    "    output_dict = json.loads(data) # dict-format\n",
    "    return output_dict\n",
    "    # convert it into structured format\n",
    "    # def getStructuredFormat(output_dict):\n",
    "    #     # get the parameters section\n",
    "    #     parameters = output_dict.get('parameters',{})\n",
    "    #     # get the data section\n",
    "    #     data = output_dict.get('data',{})\n",
    "    #     # get the required fields\n",
    "    #     currency = data.get('salary_currency', None)\n",
    "    #     min_sal = data.get('min_salary', 0.0)\n",
    "    #     max_sal = data.get('max_salary', 0.0)\n",
    "\n",
    "    #     format = {\n",
    "    #         'company_name': data.get('company_name', None),\n",
    "    #         'job_title': parameters.get('job_title', None),\n",
    "    #         'location': parameters.get('location', None),\n",
    "    #         # base salary range\n",
    "    #         'min_base_salary': data.get('min_base_salary', None),\n",
    "    #         'median_base_salary': data.get('median_base_salary', None),\n",
    "    #         'max_base_salary': data.get('max_base_salary', None),\n",
    "    #         # general salary range\n",
    "    #         'min_salary': min_sal,\n",
    "    #         'median_salary': data.get('median_salary', None),\n",
    "    #         # median-additional-pay = mean-salary\n",
    "    #         'mean_salary': data.get('median_additional_pay', None),\n",
    "    #         'max_salary': max_sal,\n",
    "    #         'salary_period': data.get('salary_period', None),\n",
    "    #         'salary_range': f'{currency} {min_sal} - {currency} {max_sal}',\n",
    "    #         'salary_currency': data.get('salary_currency', None),\n",
    "    #     }\n",
    "    #     return format\n",
    "    # return getStructuredFormat(output_dict)"
   ]
  },
  {
   "cell_type": "code",
   "execution_count": 17,
   "id": "078bd82f-6787-4240-aeae-4b83538313ec",
   "metadata": {},
   "outputs": [],
   "source": [
    "ans = glassDoor__v2('apple', 'software engineer', 'new york')"
   ]
  },
  {
   "cell_type": "code",
   "execution_count": 18,
   "id": "b83c227f-b453-4eeb-830d-e376ee59807b",
   "metadata": {},
   "outputs": [
    {
     "name": "stdout",
     "output_type": "stream",
     "text": [
      "{'status': 'OK', 'request_id': '0a684582-1939-4909-8052-5ed59b7d1bf3', 'parameters': {'job_title': 'software engineer', 'company_id': 1138, 'domain': 'www.glassdoor.com', 'location': 'new york', 'location_type': 'ANY', 'years_of_experience': None}, 'data': {'location': 'New York City, NY', 'job_title': 'Software Engineer', 'company_id': 1138, 'company_name': 'Apple', 'min_salary': 228183.85, 'max_salary': 374313.83, 'median_salary': 289326.03, 'min_base_salary': 149955.72, 'max_base_salary': 228287.99, 'median_base_salary': 185021.86, 'min_additional_pay': 78228.13, 'max_additional_pay': 146025.84, 'median_additional_pay': 104304.17, 'salary_period': 'YEAR', 'salary_currency': 'USD', 'confidence': 'CONFIDENT', 'salary_count': 303}}\n"
     ]
    }
   ],
   "source": [
    "print(ans)"
   ]
  },
  {
   "cell_type": "markdown",
   "id": "f6cd0878-1836-42c2-b86a-5ac2813c572e",
   "metadata": {},
   "source": [
    "### _**Job Salary Data API**_\n",
    "<font color = 'red'>(50 Requests/month)</font>"
   ]
  },
  {
   "cell_type": "code",
   "execution_count": 71,
   "id": "43966044-6f34-4280-b532-3300c9a399bc",
   "metadata": {},
   "outputs": [],
   "source": [
    "import http.client\n",
    "\n",
    "conn = http.client.HTTPSConnection(\"job-salary-data.p.rapidapi.com\")\n",
    "\n",
    "headers = {\n",
    "    'x-rapidapi-key': \"7ee1c65373msh181b4a01f21d239p1e5ff7jsnc2f07e071e6d\",\n",
    "    'x-rapidapi-host': \"job-salary-data.p.rapidapi.com\"\n",
    "}"
   ]
  },
  {
   "cell_type": "code",
   "execution_count": 72,
   "id": "3e992e1b-2f26-409f-8059-94b7257ad9e2",
   "metadata": {},
   "outputs": [],
   "source": [
    "params = {\n",
    "    'company': 'Amazon',\n",
    "    'job_title': 'software developer',\n",
    "    'location': 'new york',\n",
    "    'location_type': 'ANY',\n",
    "    'years_of_experience': 'ALL'\n",
    "}"
   ]
  },
  {
   "cell_type": "code",
   "execution_count": 73,
   "id": "b9d6858b-c02c-4359-bce6-4d1096bfaf64",
   "metadata": {},
   "outputs": [
    {
     "name": "stdout",
     "output_type": "stream",
     "text": [
      "company=Amazon&job_title=software+developer&location=new+york&location_type=ANY&years_of_experience=ALL\n"
     ]
    }
   ],
   "source": [
    "import urllib.parse\n",
    "url_safe_query = urllib.parse.urlencode(params)\n",
    "print(url_safe_query)"
   ]
  },
  {
   "cell_type": "code",
   "execution_count": 74,
   "id": "85132959-ea3a-4022-822e-50ae2b8b4502",
   "metadata": {},
   "outputs": [],
   "source": [
    "conn.request(\"GET\", f\"/company-job-salary?{url_safe_query}\", headers=headers)"
   ]
  },
  {
   "cell_type": "code",
   "execution_count": 46,
   "id": "440a8eda-b858-4ba4-b4a6-50a58fd75a10",
   "metadata": {},
   "outputs": [],
   "source": [
    "def transform_estimate_data(data):\n",
    "    item = data['data'][0]\n",
    "    \n",
    "    return {\n",
    "        'company': item['company'],\n",
    "        'confidence': item['confidence'],\n",
    "        'job_title': item['job_title'],\n",
    "        'location': item['location'],\n",
    "        'min_base_salary': item['min_base_salary'],\n",
    "        'median_base_salary': item['median_base_salary'],\n",
    "        'max_base_salary': item['max_base_salary'],\n",
    "        'min_additional_pay': item['min_additional_pay'],\n",
    "        'median_additional_pay': item['median_additional_pay'],\n",
    "        'max_additional_pay': item['max_additional_pay'],\n",
    "        'min_salary': item['min_salary'],\n",
    "        'median_salary': item['median_salary'],\n",
    "        'max_salary': item['max_salary'],\n",
    "        'salary_count': item['salary_count'],\n",
    "        'salary_currency': item['salary_currency'],\n",
    "        'salary_period': item['salary_period']\n",
    "    }\n"
   ]
  },
  {
   "cell_type": "code",
   "execution_count": 75,
   "id": "098fc2a7-ef86-4d86-b08e-71bdd0a769d6",
   "metadata": {},
   "outputs": [],
   "source": [
    "res = conn.getresponse()\n",
    "data = res.read()\n",
    "ans = data.decode('utf-8')"
   ]
  },
  {
   "cell_type": "code",
   "execution_count": 76,
   "id": "83aaa665-27d9-4f88-925b-b8af08c8cd95",
   "metadata": {
    "scrolled": true
   },
   "outputs": [
    {
     "name": "stdout",
     "output_type": "stream",
     "text": [
      "{'status': 'OK', 'request_id': '92815ef3-ac3d-4a08-b64a-1c76b3a334f0', 'data': [{'location': 'New York City, NY', 'job_title': 'Software Developer', 'company': 'Amazon', 'min_salary': 177650.22, 'max_salary': 276253.84, 'median_salary': 219151.35, 'min_base_salary': 120605.66, 'max_base_salary': 169770.67, 'median_base_salary': 143091.94, 'min_additional_pay': 57044.56, 'max_additional_pay': 106483.17, 'median_additional_pay': 76059.41, 'salary_period': 'YEAR', 'salary_currency': 'USD', 'salary_count': 92, 'confidence': 'CONFIDENT', 'result': {'__typename': 'AggregatedSalaryEstimatesResult', 'basePayStatistics': {'__typename': 'StatisticsResult', 'max': 169770.67, 'mean': 143091.94, 'min': 120605.66, 'percentiles': [{'__typename': 'Percentile', 'ident': 'P10', 'value': 103418.91}, {'__typename': 'Percentile', 'ident': 'P25', 'value': 120605.66}, {'__typename': 'Percentile', 'ident': 'P50', 'value': 143091.94}, {'__typename': 'Percentile', 'ident': 'P75', 'value': 169770.67}, {'__typename': 'Percentile', 'ident': 'P90', 'value': 197984.15}]}, 'confidence': 'CONFIDENT', 'currency': {'__typename': 'Currency', 'code': 'USD'}, 'employer': {'__typename': 'Employer', 'counts': {'__typename': 'EmployerCounts', 'globalJobCount': {'__typename': 'EmployerJobCountHolder', 'jobCount': 28589}}, 'id': 6036, 'links': {'__typename': 'EiEmployerLinks', 'jobsUrl': '/Jobs/Amazon-Jobs-E6036.htm'}, 'ratings': {'__typename': 'DefaultEmployerRatings', 'overallRating': 3.6}, 'shortName': 'Amazon', 'squareLogoUrl': 'https://media.glassdoor.com/sql/6036/amazon-squarelogo-1552847650117.png'}, 'jobTitle': {'__typename': 'JobTitle', 'id': 30270, 'text': 'Software Developer'}, 'obscuring': 'NONE', 'payPeriod': 'ANNUAL', 'salariesEmploymentStatus': 'REGULAR', 'salaryCount': 92, 'totalAdditionalPayStatistics': {'__typename': 'StatisticsResult', 'max': 106483.17, 'mean': 76059.41, 'min': 57044.56, 'percentiles': [{'__typename': 'Percentile', 'ident': 'P10', 'value': 44114.46}, {'__typename': 'Percentile', 'ident': 'P25', 'value': 57044.56}, {'__typename': 'Percentile', 'ident': 'P50', 'value': 76059.41}, {'__typename': 'Percentile', 'ident': 'P75', 'value': 106483.17}, {'__typename': 'Percentile', 'ident': 'P90', 'value': 139188.72}]}, 'totalPayInsights': None, 'totalPayStatistics': {'__typename': 'StatisticsResult', 'max': 276253.84, 'mean': 219151.35, 'min': 177650.22, 'percentiles': [{'__typename': 'Percentile', 'ident': 'P10', 'value': 147533.37}, {'__typename': 'Percentile', 'ident': 'P25', 'value': 177650.22}, {'__typename': 'Percentile', 'ident': 'P50', 'value': 219151.35}, {'__typename': 'Percentile', 'ident': 'P75', 'value': 276253.84}, {'__typename': 'Percentile', 'ident': 'P90', 'value': 337172.87}]}}}]}\n"
     ]
    }
   ],
   "source": [
    "output_dict = json.loads(data)\n",
    "# output_dict = transform_estimate_data(output_dict)\n",
    "print(output_dict)"
   ]
  },
  {
   "cell_type": "markdown",
   "id": "327a5ce2-5090-4a35-80be-b869977b9e94",
   "metadata": {},
   "source": [
    "## <font color = 'red'> Total requests - 200/MO + 200/MO + 50/MO + 1000/hr + Scraping from leves.fyi + Scraping from glassDoor(simplified range)</font>"
   ]
  },
  {
   "cell_type": "markdown",
   "id": "a2fec2d6-2a5f-4567-b532-0aa88bfc3189",
   "metadata": {},
   "source": [
    "**From chatGPT**\n",
    "\n",
    "```\n",
    "from functools import reduce\n",
    "\n",
    "def extract_common_keys(dicts):\n",
    "    \"\"\"Get keys that are common across all dictionaries (top-level only).\"\"\"\n",
    "    return set.intersection(*(set(d.keys()) for d in dicts))\n",
    "\n",
    "def deep_merge_common(dicts):\n",
    "    \"\"\"Recursively extract and merge common keys and values from a list of dicts.\"\"\"\n",
    "    if not dicts:\n",
    "        return {}\n",
    "\n",
    "    common_keys = extract_common_keys(dicts)\n",
    "    merged = {}\n",
    "\n",
    "    for key in common_keys:\n",
    "        # Check if the value is a nested dict in all cases\n",
    "        if all(isinstance(d[key], dict) for d in dicts):\n",
    "            merged[key] = deep_merge_common([d[key] for d in dicts])\n",
    "        else:\n",
    "            # If all values are equal, take one of them\n",
    "            values = [d[key] for d in dicts]\n",
    "            if all(v == values[0] for v in values):\n",
    "                merged[key] = values[0]\n",
    "            else:\n",
    "                merged[key] = values  # keep all values if they differ\n",
    "\n",
    "    return merged\n",
    "```"
   ]
  },
  {
   "cell_type": "code",
   "execution_count": 63,
   "id": "27e65dc0-2668-4df6-8ff0-b205d3db7d41",
   "metadata": {},
   "outputs": [],
   "source": [
    "def extract_salary_data(data: dict, company: str, location: str):\n",
    "    results = data.get('data', {}).get('aggregateSalaryResponse', {}).get('results', [])\n",
    "    company_rating = data.get('data', {}).get('employer', {}).get('overallRating', None)\n",
    "\n",
    "    entries = []\n",
    "\n",
    "    def fmt(salary):\n",
    "        return f\"USD {int(round(salary)):,}\" if salary else \"N/A\"\n",
    "\n",
    "    for job in results:\n",
    "        job_title = job.get('jobTitle', {}).get('text', '')\n",
    "\n",
    "        percentiles = job.get('totalPayStatistics', {}).get('percentiles', [])\n",
    "        mean_salary = job.get('totalPayStatistics', {}).get('mean', None)\n",
    "\n",
    "        p25 = next((p['value'] for p in percentiles if p.get('ident') == 'P25'), None)\n",
    "        p50 = next((p['value'] for p in percentiles if p.get('ident') == 'P50'), None)\n",
    "        p75 = next((p['value'] for p in percentiles if p.get('ident') == 'P75'), None)\n",
    "\n",
    "        entry = {\n",
    "            'company': company,\n",
    "            'job_title': job_title,\n",
    "            'location': location,\n",
    "            'salary_currency': 'USD',\n",
    "            'salary_period': 'annual',\n",
    "            'salary_range': f\"{fmt(p25)} - {fmt(p75)}\" if p25 and p75 else \"N/A\",\n",
    "            'median_salary': fmt(p50),\n",
    "            'mean_salary': fmt(mean_salary),\n",
    "            'company_rating': round(company_rating, 1) if company_rating else \"N/A\"\n",
    "        }\n",
    "\n",
    "        entries.append(entry)\n",
    "\n",
    "    return entries\n"
   ]
  },
  {
   "cell_type": "code",
   "execution_count": 68,
   "id": "207540b6-f511-4558-80f3-779d24c0458d",
   "metadata": {},
   "outputs": [],
   "source": [
    "def glassDoor(company, job_title, location):\n",
    "    conn = http.client.HTTPSConnection(\"glassdoor-real-time.p.rapidapi.com\")\n",
    "    headers = {\n",
    "        'x-rapidapi-key': \"7ee1c65373msh181b4a01f21d239p1e5ff7jsnc2f07e071e6d\",\n",
    "        'x-rapidapi-host': \"glassdoor-real-time.p.rapidapi.com\"\n",
    "    }\n",
    "    # first extract locationId\n",
    "    params = {\n",
    "        'query' : location\n",
    "    }\n",
    "    url_safe_query = urllib.parse.urlencode(params)\n",
    "    conn.request(\"GET\", f\"/jobs/location?{url_safe_query}\", headers=headers)\n",
    "    res = conn.getresponse()\n",
    "    data = res.read()\n",
    "    res = json.loads(data)\n",
    "    locationId = res['data'][0]['locationId'] # we got the location ID\n",
    "    # Now extract salary data\n",
    "    params = {\n",
    "        'query' : f'{company} {job_title}',\n",
    "        'locationId': locationId,\n",
    "        'limit': 10,\n",
    "        'page': 1,\n",
    "        'sort' : 'POPULAR'\n",
    "    }\n",
    "    url_safe_query = urllib.parse.urlencode(params)\n",
    "    conn.request(\"GET\", f\"/salaries/search?{url_safe_query}\", headers=headers)\n",
    "    res = conn.getresponse()\n",
    "    data = res.read()\n",
    "    res = json.loads(data)\n",
    "    # for glassDoor API we will be transforming the result into more structured form\n",
    "\n",
    "    data = extract_salary_data(res, company, location)\n",
    "    return data\n",
    "\n"
   ]
  },
  {
   "cell_type": "code",
   "execution_count": 69,
   "id": "b78fee6f-50d5-4f48-bd05-a1894efb8ac6",
   "metadata": {},
   "outputs": [],
   "source": [
    "result = glassDoor('microsoft', 'software devloper', 'new york')"
   ]
  },
  {
   "cell_type": "code",
   "execution_count": 70,
   "id": "3c2d8626-15b2-414f-8bd2-d11f3ebebd4d",
   "metadata": {},
   "outputs": [
    {
     "data": {
      "text/plain": [
       "[{'company': 'microsoft',\n",
       "  'job_title': 'Software Engineer',\n",
       "  'location': 'new york',\n",
       "  'salary_currency': 'USD',\n",
       "  'salary_period': 'annual',\n",
       "  'salary_range': 'USD 179,986 - USD 268,933',\n",
       "  'median_salary': 'USD 218,104',\n",
       "  'mean_salary': 'N/A',\n",
       "  'company_rating': 'N/A'},\n",
       " {'company': 'microsoft',\n",
       "  'job_title': 'Product Manager',\n",
       "  'location': 'new york',\n",
       "  'salary_currency': 'USD',\n",
       "  'salary_period': 'annual',\n",
       "  'salary_range': 'USD 196,016 - USD 286,821',\n",
       "  'median_salary': 'USD 234,862',\n",
       "  'mean_salary': 'N/A',\n",
       "  'company_rating': 'N/A'},\n",
       " {'company': 'microsoft',\n",
       "  'job_title': 'Senior Software Engineer',\n",
       "  'location': 'new york',\n",
       "  'salary_currency': 'USD',\n",
       "  'salary_period': 'annual',\n",
       "  'salary_range': 'USD 236,293 - USD 343,487',\n",
       "  'median_salary': 'USD 281,862',\n",
       "  'mean_salary': 'N/A',\n",
       "  'company_rating': 'N/A'},\n",
       " {'company': 'microsoft',\n",
       "  'job_title': 'Software Developer',\n",
       "  'location': 'new york',\n",
       "  'salary_currency': 'USD',\n",
       "  'salary_period': 'annual',\n",
       "  'salary_range': 'USD 112,180 - USD 177,505',\n",
       "  'median_salary': 'USD 140,752',\n",
       "  'mean_salary': 'N/A',\n",
       "  'company_rating': 'N/A'},\n",
       " {'company': 'microsoft',\n",
       "  'job_title': 'Cloud Solution Architect',\n",
       "  'location': 'new york',\n",
       "  'salary_currency': 'USD',\n",
       "  'salary_period': 'annual',\n",
       "  'salary_range': 'USD 195,068 - USD 287,088',\n",
       "  'median_salary': 'USD 234,804',\n",
       "  'mean_salary': 'N/A',\n",
       "  'company_rating': 'N/A'},\n",
       " {'company': 'microsoft',\n",
       "  'job_title': 'Project Manager',\n",
       "  'location': 'new york',\n",
       "  'salary_currency': 'USD',\n",
       "  'salary_period': 'annual',\n",
       "  'salary_range': 'USD 129,133 - USD 208,439',\n",
       "  'median_salary': 'USD 163,206',\n",
       "  'mean_salary': 'N/A',\n",
       "  'company_rating': 'N/A'},\n",
       " {'company': 'microsoft',\n",
       "  'job_title': 'Account Manager',\n",
       "  'location': 'new york',\n",
       "  'salary_currency': 'USD',\n",
       "  'salary_period': 'annual',\n",
       "  'salary_range': 'USD 165,037 - USD 271,750',\n",
       "  'median_salary': 'USD 209,670',\n",
       "  'mean_salary': 'N/A',\n",
       "  'company_rating': 'N/A'},\n",
       " {'company': 'microsoft',\n",
       "  'job_title': 'Program Manager',\n",
       "  'location': 'new york',\n",
       "  'salary_currency': 'USD',\n",
       "  'salary_period': 'annual',\n",
       "  'salary_range': 'USD 164,524 - USD 240,851',\n",
       "  'median_salary': 'USD 197,428',\n",
       "  'mean_salary': 'N/A',\n",
       "  'company_rating': 'N/A'},\n",
       " {'company': 'microsoft',\n",
       "  'job_title': 'Software Engineer II',\n",
       "  'location': 'new york',\n",
       "  'salary_currency': 'USD',\n",
       "  'salary_period': 'annual',\n",
       "  'salary_range': 'USD 161,388 - USD 215,770',\n",
       "  'median_salary': 'USD 184,959',\n",
       "  'mean_salary': 'N/A',\n",
       "  'company_rating': 'N/A'},\n",
       " {'company': 'microsoft',\n",
       "  'job_title': 'Manager',\n",
       "  'location': 'new york',\n",
       "  'salary_currency': 'USD',\n",
       "  'salary_period': 'annual',\n",
       "  'salary_range': 'USD 157,331 - USD 248,850',\n",
       "  'median_salary': 'USD 197,084',\n",
       "  'mean_salary': 'N/A',\n",
       "  'company_rating': 'N/A'}]"
      ]
     },
     "execution_count": 70,
     "metadata": {},
     "output_type": "execute_result"
    }
   ],
   "source": [
    "result"
   ]
  },
  {
   "cell_type": "code",
   "execution_count": 81,
   "id": "71080b97-86d4-4f62-a614-c93d13b23fc8",
   "metadata": {},
   "outputs": [
    {
     "name": "stdout",
     "output_type": "stream",
     "text": [
      "{'company': 'Amazon',\n",
      " 'company_rating': 3.6,\n",
      " 'job_title': 'Software Developer',\n",
      " 'location': 'New York City, NY',\n",
      " 'mean_salary': 'USD219151',\n",
      " 'median_salary': 'USD219151.35',\n",
      " 'salary_currency': 'USD',\n",
      " 'salary_period': 'YEAR',\n",
      " 'salary_range': 'USD177650.22 - USD276253.84'}\n"
     ]
    }
   ],
   "source": [
    "# Job_Salary_Data_API - 50 requests / MO\n",
    "def job_salary_data_api(company, job_title, location, API_KEY=None):\n",
    "    res = {'status': 'OK', 'request_id': '92815ef3-ac3d-4a08-b64a-1c76b3a334f0', 'data': [{'location': 'New York City, NY', 'job_title': 'Software Developer', 'company': 'Amazon', 'min_salary': 177650.22, 'max_salary': 276253.84, 'median_salary': 219151.35, 'min_base_salary': 120605.66, 'max_base_salary': 169770.67, 'median_base_salary': 143091.94, 'min_additional_pay': 57044.56, 'max_additional_pay': 106483.17, 'median_additional_pay': 76059.41, 'salary_period': 'YEAR', 'salary_currency': 'USD', 'salary_count': 92, 'confidence': 'CONFIDENT', 'result': {'__typename': 'AggregatedSalaryEstimatesResult', 'basePayStatistics': {'__typename': 'StatisticsResult', 'max': 169770.67, 'mean': 143091.94, 'min': 120605.66, 'percentiles': [{'__typename': 'Percentile', 'ident': 'P10', 'value': 103418.91}, {'__typename': 'Percentile', 'ident': 'P25', 'value': 120605.66}, {'__typename': 'Percentile', 'ident': 'P50', 'value': 143091.94}, {'__typename': 'Percentile', 'ident': 'P75', 'value': 169770.67}, {'__typename': 'Percentile', 'ident': 'P90', 'value': 197984.15}]}, 'confidence': 'CONFIDENT', 'currency': {'__typename': 'Currency', 'code': 'USD'}, 'employer': {'__typename': 'Employer', 'counts': {'__typename': 'EmployerCounts', 'globalJobCount': {'__typename': 'EmployerJobCountHolder', 'jobCount': 28589}}, 'id': 6036, 'links': {'__typename': 'EiEmployerLinks', 'jobsUrl': '/Jobs/Amazon-Jobs-E6036.htm'}, 'ratings': {'__typename': 'DefaultEmployerRatings', 'overallRating': 3.6}, 'shortName': 'Amazon', 'squareLogoUrl': 'https://media.glassdoor.com/sql/6036/amazon-squarelogo-1552847650117.png'}, 'jobTitle': {'__typename': 'JobTitle', 'id': 30270, 'text': 'Software Developer'}, 'obscuring': 'NONE', 'payPeriod': 'ANNUAL', 'salariesEmploymentStatus': 'REGULAR', 'salaryCount': 92, 'totalAdditionalPayStatistics': {'__typename': 'StatisticsResult', 'max': 106483.17, 'mean': 76059.41, 'min': 57044.56, 'percentiles': [{'__typename': 'Percentile', 'ident': 'P10', 'value': 44114.46}, {'__typename': 'Percentile', 'ident': 'P25', 'value': 57044.56}, {'__typename': 'Percentile', 'ident': 'P50', 'value': 76059.41}, {'__typename': 'Percentile', 'ident': 'P75', 'value': 106483.17}, {'__typename': 'Percentile', 'ident': 'P90', 'value': 139188.72}]}, 'totalPayInsights': None, 'totalPayStatistics': {'__typename': 'StatisticsResult', 'max': 276253.84, 'mean': 219151.35, 'min': 177650.22, 'percentiles': [{'__typename': 'Percentile', 'ident': 'P10', 'value': 147533.37}, {'__typename': 'Percentile', 'ident': 'P25', 'value': 177650.22}, {'__typename': 'Percentile', 'ident': 'P50', 'value': 219151.35}, {'__typename': 'Percentile', 'ident': 'P75', 'value': 276253.84}, {'__typename': 'Percentile', 'ident': 'P90', 'value': 337172.87}]}}}]}\n",
    "\n",
    "    salary_data = res['data'][0]\n",
    "    return {\n",
    "        'company': salary_data['company'],\n",
    "        'job_title': salary_data['job_title'],\n",
    "        'location': salary_data['location'],\n",
    "        'salary_currency': salary_data['salary_currency'],\n",
    "        'salary_period': salary_data['salary_period'],\n",
    "        'salary_range' : f'{salary_data['salary_currency']}{salary_data['min_salary']} - {salary_data['salary_currency']}{salary_data['max_salary']}',\n",
    "        'median_salary': f'{salary_data['salary_currency']}{salary_data['median_salary']}',\n",
    "        'mean_salary': f'{salary_data['salary_currency']}{round(salary_data['result']['totalPayStatistics']['mean'])}',\n",
    "        'company_rating': salary_data['result']['employer']['ratings']['overallRating']\n",
    "        # 'confidence': salary_data['confidence'],\n",
    "        # 'min_salary': salary_data['min_salary'],\n",
    "        # 'max_salary': salary_data['max_salary'],\n",
    "        # 'salary_count': salary_data['salary_count'],\n",
    "    }\n",
    "result = job_salary_data_api('amazon', 'software devloper', 'new york')\n",
    "pprint(result)"
   ]
  },
  {
   "cell_type": "markdown",
   "id": "89f06c89-4b19-4f7b-ab91-84edf7b4f64a",
   "metadata": {},
   "source": [
    "# The format to be fllowed :-\n",
    "```\n",
    "{\n",
    "    'company': 'Microsoft',\n",
    "    'job_title': 'Software Engineer',\n",
    "    'location': 'New York, NY',\n",
    "    'salary_currency': 'USD',\n",
    "    'salary_period': 'annual',\n",
    "    'salary_range': 'USD 160,000 - 260,000',\n",
    "    'median_salary': 'USD 210,000',\n",
    "    'mean_salary': 'USD 218,103',\n",
    "    'company_rating': 4.2\n",
    "}\n",
    "```"
   ]
  },
  {
   "cell_type": "code",
   "execution_count": 23,
   "id": "d08dc02c-e14d-4b87-9304-a3cbb750d0a1",
   "metadata": {},
   "outputs": [],
   "source": [
    "def carrer_jet_api(company, job_title, location):\n",
    "    try:\n",
    "        url = \"http://public.api.careerjet.net/search\"\n",
    "\n",
    "        params = {\n",
    "            \"locale_code\": \"en_US\",\n",
    "            \"keywords\": f\"{company} {job_title}\",\n",
    "            \"location\": location,\n",
    "            \"affid\": \"09a7e99d93482b93310a29944476cd33\",  \n",
    "            \"user_ip\": \"1.2.3.4\",        \n",
    "            \"user_agent\": \"Mozilla/5.0\", \n",
    "            \"pagesize\": 10,              \n",
    "            \"page\": 1\n",
    "        }\n",
    "        response = requests.get(url, params=params)\n",
    "        data = response.json()\n",
    "        # if there are no jobs based on the request made\n",
    "        if \"jobs\" not in data or not data[\"jobs\"]:\n",
    "            return {\"error\": \"Job data not available ...\"}\n",
    "        # If we got job data then let us filter it as careerJet does not prefer searching based on company filter\n",
    "        filtered_jobs = [job for job in data.get(\"jobs\", [])if job.get(\"company\", \"\").lower() == company.lower()]\n",
    "        # if no filtered jobs exist\n",
    "        if not filtered_jobs:\n",
    "            return {\"error\": \"Job data not available ...\"}\n",
    "        # else replace with the filtered jobs\n",
    "        data['jobs'] = filtered_jobs\n",
    "        def extract_job_summary(output_dict):\n",
    "            salaries = []\n",
    "            job_list = []\n",
    "            salary_period = {\n",
    "                'Y': 'YEAR',\n",
    "                'A': 'ANNUM',\n",
    "                'M': 'MONTH',\n",
    "                'W': 'WEEK',\n",
    "                'D': 'DAY',\n",
    "                'H': 'HOUR'\n",
    "            }\n",
    "            \n",
    "            for job in output_dict.get(\"jobs\", []):\n",
    "                title = job.get(\"title\", \"\")\n",
    "                job_list.append(title)\n",
    "                try:\n",
    "                    min_salary = float(job.get(\"salary_min\", 0))\n",
    "                    max_salary = float(job.get(\"salary_max\", 0))\n",
    "\n",
    "                    if min_salary:\n",
    "                        salaries.append(min_salary)\n",
    "                    if max_salary and max_salary != min_salary:\n",
    "                        salaries.append(max_salary)\n",
    "                except (ValueError, TypeError):\n",
    "                    continue\n",
    "            # if not salaries:\n",
    "            #     return {\n",
    "            #         'salary_range': 'N/A',\n",
    "            #         'base_salary': 'N/A',\n",
    "            #         'median_salary': 'N/A',\n",
    "            #         'mean_salary': 'N/A',\n",
    "            #     }\n",
    "            if(salaries):\n",
    "                salaries.sort()\n",
    "                currency = output_dict.get(\"salary_currency_code\")\n",
    "                salary_range = f'{currency} {min(salaries):.2f} - {currency} {max(salaries):.2f}'\n",
    "                base_salary = f'{currency} {min(salaries):.2f}'\n",
    "                mean_salary = sum(salaries) / len(salaries)\n",
    "                median_salary = (\n",
    "                    salaries[len(salaries) // 2]\n",
    "                    if len(salaries) % 2 == 1\n",
    "                    else (salaries[len(salaries) // 2 - 1] + salaries[len(salaries) // 2]) / 2\n",
    "                )\n",
    "            else:\n",
    "                salary_range = None\n",
    "                base_salary = None\n",
    "                median_salary = None\n",
    "                mean_salary = None\n",
    "\n",
    "            job_info = {\n",
    "                # basic information\n",
    "                # \"job_title\": job.get(\"title\", \"\").split(\",\")[0],  # I removed extra qualifiers like amazon-ADS\n",
    "                \"company_name\": next((p['company'] for p in output_dict.get('jobs', [])), None),\n",
    "                \"job_title\": job_list,\n",
    "                \"location\": next((p['locations'] for p in output_dict.get(\"jobs\", [])), None),\n",
    "                # base-salary range\n",
    "                \"base_salary\": base_salary,\n",
    "                \"median_salary\": f'{currency} {median_salary:.2f}' if median_salary is not None else None,\n",
    "                \"mean_salary\": f'{currency} {mean_salary:.2f}' if mean_salary is not None else None,\n",
    "                \"salary_range\": salary_range,\n",
    "                \"salary_currency\": next((p['salary_currency_code'] for p in output_dict.get(\"jobs\", []) if p.get('salary_currency_code')), None),\n",
    "                \"salary_period\": salary_period.get(next((p.get(\"salary_type\") for p in output_dict.get(\"jobs\", [])), None),None),\n",
    "            }\n",
    "            return job_info\n",
    "        job_summary = extract_job_summary(data)\n",
    "        return job_summary\n",
    "    except Exception as e:\n",
    "        return {\"error\": \"Job data not available ...\"}"
   ]
  },
  {
   "cell_type": "code",
   "execution_count": 24,
   "id": "6ff2eee3-d8c9-44a0-95d8-e18349bf885f",
   "metadata": {},
   "outputs": [],
   "source": [
    "ans = carrer_jet_api('apple', 'software engineer', 'new york')"
   ]
  },
  {
   "cell_type": "code",
   "execution_count": 25,
   "id": "37789fd7-8398-406b-ba91-e91bb066a521",
   "metadata": {},
   "outputs": [
    {
     "data": {
      "text/plain": [
       "{'company_name': 'Apple',\n",
       " 'job_title': ['iOS Engineer, Apple Pay Security',\n",
       "  'Software Engineer (Data Engineering)',\n",
       "  'Senior Software Engineer - AppleTV Sports',\n",
       "  'Software Development Engineer',\n",
       "  'Software Development Engineer',\n",
       "  'Software Engineer, Ad Platforms',\n",
       "  'Senior Software Engineer, Ad Platforms',\n",
       "  'Software Engineer - ML Data',\n",
       "  'Senior Software Engineer Frontend, Ad Platforms'],\n",
       " 'location': 'New York City, NY',\n",
       " 'base_salary': 'None 151819.00',\n",
       " 'median_salary': 'None 183159.50',\n",
       " 'mean_salary': 'None 183159.50',\n",
       " 'salary_range': 'None 151819.00 - None 214500.00',\n",
       " 'salary_currency': 'USD',\n",
       " 'salary_period': None}"
      ]
     },
     "execution_count": 25,
     "metadata": {},
     "output_type": "execute_result"
    }
   ],
   "source": [
    "ans"
   ]
  },
  {
   "cell_type": "code",
   "execution_count": null,
   "id": "c4e05eb9-e2b8-4901-8434-0b4acec63c7e",
   "metadata": {},
   "outputs": [],
   "source": [
    "import requests\n",
    "import urllib.parse\n",
    "headers = {\n",
    "    'x-app-id': 'c7740ed4-2dd7-4b3a-b11e-d8c546927444',\n",
    "    'x-client-id': 'WpSCtxgRVtUWLO1905yPuj1lhu22',\n",
    "    'x-api-key': 'pEovSWskDx0vzcvbs8EXbO9AFzVlVxPo10gJ1mDoEnM='\n",
    "}\n",
    "\n",
    "query_params = {\n",
    "    \n",
    "}\n",
    "url = 'https://gateway.apyflux.com/v1/estimated-salary?job_title=NodeJS Developer&location=New-York, NY, USA&radius=200&fields='\n",
    "response = requests.get(url, headers=headers, timeout=10)\n",
    "print(response.text)\n"
   ]
  }
 ],
 "metadata": {
  "kernelspec": {
   "display_name": "Python 3 (ipykernel)",
   "language": "python",
   "name": "python3"
  },
  "language_info": {
   "codemirror_mode": {
    "name": "ipython",
    "version": 3
   },
   "file_extension": ".py",
   "mimetype": "text/x-python",
   "name": "python",
   "nbconvert_exporter": "python",
   "pygments_lexer": "ipython3",
   "version": "3.12.8"
  }
 },
 "nbformat": 4,
 "nbformat_minor": 5
}
