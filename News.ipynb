{
 "cells": [
  {
   "cell_type": "markdown",
   "id": "31127f36-093d-4c6e-9352-effe74a1c544",
   "metadata": {},
   "source": [
    "## **Using pygooglenews (Unoffical Google News API)**"
   ]
  },
  {
   "cell_type": "code",
   "execution_count": 1,
   "id": "d6ac8197-e653-495e-b784-f0338009063a",
   "metadata": {},
   "outputs": [],
   "source": [
    "from pygooglenews import GoogleNews\n",
    "import json\n",
    "import time"
   ]
  },
  {
   "cell_type": "code",
   "execution_count": 2,
   "id": "f489a6d4-6864-41ac-9d05-7d6cf3fe5d19",
   "metadata": {
    "collapsed": true,
    "jupyter": {
     "outputs_hidden": true
    },
    "scrolled": true
   },
   "outputs": [
    {
     "name": "stdout",
     "output_type": "stream",
     "text": [
      "Apple’s Alibaba A.I. Deal Provokes Washington’s Resistance - The New York Times\n",
      "Universal Music Group and Apple Music announce Sound Therapy - Apple\n",
      "Apple blocks Fortnite game on iPhones, video game company says - CBS News\n",
      "Trump Not Happy With Apple Moving iPhone Production To India - Investor's Business Daily\n",
      "Why Apple won’t find it easy to move iPhone production from India to US - Times of India\n",
      "Trump says he has a ‘little problem’ with Tim Cook - CNN\n",
      "Apple Pay was down — live updates on the outage - Tom's Guide\n",
      "Trump tells Apple’s CEO to stop expanding iPhone production in India - TechCrunch\n",
      "Trump wants Apple to make iPhones in the US. Will it ever happen? - ABC News\n",
      "Apple India Manufacturing: No Change in iPhone Production Shift Plans, Says Source - Deccan Herald\n",
      "Why Apple can’t afford to surrender to Trump’s latest anti-India diktat - The Economic Times\n",
      "India may gain from Apple’s Inc exit if it spurs deeper manufacturing push: GTRI | Company Business News - Mint\n",
      "Trump wants Apple to shift iPhone production from India to the US: here’s what it means - TradingView\n",
      "Magnificent Seven Stocks To Watch In May 2025 - Investor's Business Daily\n",
      "Book Review: ‘Apple in China,’ by Patrick McGee - The New York Times\n",
      "Apple will spend more than $500 billion in the U.S. over the next four years - Apple\n",
      "Donald Trump’s dream to have Apple ‘Make in US’ may raise iPhone price to $3,000: Experts - Times of India\n",
      "The latest Apple Maps update will bring out your bougie side - TechCrunch\n",
      "Apple to review India iPhone scale-up plans for US supply - Times of India\n",
      "‘Don’t want you building in India’: Donald Trump’s clear message to Apple CEO Tim Cook to 'Make in US'; s - Times of India\n",
      "Magnificent Seven Stocks: Microsoft Rules As Nvidia Looks To Take A Bite Out Of Apple - Investor's Business Daily\n",
      "No change to Apple's India iPhone plan for now amid Trump's strictures | Company Business News - Mint\n",
      "Apple introduces News+ Food - Apple\n",
      "Apple debuts iPhone 16e: A powerful new member of the iPhone 16 family - Apple\n",
      "Donald Trump tells Apple he ‘does not want’ iPhone maker to manufacture in India; claims New Delhi offered to ‘drop all tariffs’ - The Indian Express\n",
      "Apple still the world’s most valuable brand, per new Kantar report - 9to5Mac\n",
      "Apple stock soars on news of US-China tariff deal - 9to5Mac\n",
      "Apple’s assurance to Indian government after Donald Trump talks about his “little problem” with CEO Tim C - Times of India\n",
      "Apple denies barring Fortnite from EU stores in epic dispute - BNN Bloomberg\n",
      "Apple’s 2027 Product Blitz Can’t Come Soon Enough - Bloomberg\n",
      "Trump wants Apple to stop moving iPhone production to India, says New Delhi can take care of itself - The Economic Times\n",
      "Jim Cramer Says Apple Inc. (AAPL) Just ‘Doesn’t Grow As Fast As We’d Like’ - Yahoo Finance\n",
      "Donald Trump warns Apple about ‘Make in India’, will Tim Cook-led iPhone maker listen? - Times of India\n",
      "Apple stock slips after company warns of $900 million tariff headwind - Yahoo Finance\n",
      "‘India is a competitive hub for smartphone manufacturing’: Commerce secretary shrugs off US President Don - Times of India\n",
      "Donald Trump tells Apple's Tim Cook not to manufacture iPhones in India - Business Standard\n",
      "Apple has cut iPhone prices in China and the reason is this company banned in the US - Times of India\n",
      "New video shows Apple Music’s haptic feedback feature in action - 9to5Mac\n",
      "Donald Trump ‘not interested’ in India for iPhone production but Apple won’t budge - Mint\n",
      "Fortnite says it's offline on Apple's iOS around the world - Business News - Castanet\n",
      "Apple expands tools to help businesses connect with customers - Apple\n",
      "Introducing Apple Invites, a new app that brings people together for life’s special moments - Apple\n",
      "Apple's plan to offer AI search options on Safari a blow to Google dominance - Reuters\n",
      "Donald Trump's advice to Apple CEO Tim Cook: 'Don’t want you building in India' - Hindustan Times\n",
      "Trump throws Apple tantrum: Should India worry? - The Economic Times\n",
      "Apple announces Apple Retail expansion in the Kingdom of Saudi Arabia - Apple\n",
      "Apple MixC Hefei opens for customers this Saturday, January 18, in Anhui, China - Apple\n",
      "Apple introduces iPad Air with powerful M3 chip and new Magic Keyboard - Apple\n",
      "Apple says most US-bound iPhones no longer made in China as tariffs bite - BBC\n",
      "Apple introduces iPhone 16 and iPhone 16 Plus - Apple\n",
      "BofA Reiterates ‘Buy’ on Apple Inc. (AAPL) as App Store Revenue Surges - Yahoo Finance\n",
      "'Apple Will Realise...: Sources On Trump's 'Not In India' Call To Tim Cook - NDTV\n",
      "Apple stock rout shaves nearly $700 billion from market cap since record close - Yahoo Finance\n",
      "Apple surpasses 60 percent reduction in global greenhouse gas emissions - Apple\n",
      "Apple (AAPL) Introduces AI-Powered iPhone 16e, Raising Upgrade Questions - Yahoo Finance\n",
      "Surprising iPhone problem sends Apple stock reeling - TheStreet\n",
      "Apple Plunges 9%, Leading a Tech Sell-Off - The New York Times\n",
      "iOS 18 - Apple\n",
      "Is Apple Stock A Buy Amid Sluggish iPhone Sales? - Investor's Business Daily\n",
      "Apple Plans to Disable A.I. Features Summarizing News Notifications - The New York Times\n",
      "What’s Wrong With Apple? - The New York Times\n",
      "Apple airlifts 600 tons of iPhones from India 'to beat' Trump tariffs, sources say - Reuters\n",
      "Apple Music kicks off Kendrick Lamar’s Road to Halftime ahead of Super Bowl LIX - Apple\n",
      "Apple partnering with startup Anthropic on AI-powered coding platform, Bloomberg News reports - Reuters\n",
      "Apple introduces the 2025 Black Unity Collection - Apple\n",
      "Apple urged to withdraw 'out of control' AI news alerts - BBC\n",
      "Apple’s new Mac mini is more mighty, more mini, and built for Apple Intelligence - Apple\n",
      "Apple plans $500 billion U.S. investment amid Trump tariff threat - NBC News\n",
      "The world’s most valuable tech company has a problem it can’t easily solve - CNN\n",
      "Told Apple CEO Tim Cook that I don't want him to build in India: Donald Trump - Moneycontrol\n",
      "Apple, facing tariffs on Chinese imports, says it will invest $500 billion in US facilities - CNN\n",
      "Apple loses German antitrust fight, faces greater scrutiny - Reuters\n",
      "List of Apple Contract Manufacturers and Suppliers in India - India Briefing\n",
      "Apple is pulling its AI-generated notifications for news after generating fake headlines - CNN\n",
      "Apple urged to remove new AI feature after falsely summarizing news reports - CNN\n",
      "Magnificent Seven Stocks Watch: Nvidia, Tesla Sell Off - Investor's Business Daily\n",
      "Trump’s New Tariffs Test Apple’s Global Supply Chain - The New York Times\n",
      "Major League Soccer kicks off 30th season this weekend on MLS Season Pass - Apple\n",
      "Apple is no longer the world’s most valuable company, loses its position to… - Times of India\n",
      "A $2,300 Apple iPhone? Trump tariffs could make that happen. - Reuters\n",
      "Apple’s Future Hinges on Smaller Bets, Rather Than Next Big Thing - Bloomberg\n",
      "Apple introduces groundbreaking health features to support conditions impacting billions of people - Apple\n",
      "Apple launches new resources for teachers, expands education grant program - Apple\n",
      "Apple Intelligence: iPhone AI news alerts halted after errors - BBC\n",
      "A judge just blew up Apple’s control of the App Store - The Verge\n",
      "Apple shareholders reject proposal to scrap company’s diversity programs - AP News\n",
      "Is Apple Stock A Buy After Its September-Quarter Earnings Report? - Investor's Business Daily\n",
      "How Apple 'flew' 5 flights full of iPhones from India and China in 3 days to beat Trump Tariffs - Times of India\n",
      "Apple needs a new reason to get you to buy a new iPhone. It may have one - CNN\n",
      "Should You Buy Apple Stock Before or After a New iPhone is Released? - Investopedia\n",
      "iOS 18 is available today, making iPhone more personal and capable than ever - Apple\n",
      "Apple loses smartphone sales crown in China, drops to third in 2024 - Reuters\n",
      "Futures Rise After Big Tariff News; Now Look For This - Investor's Business Daily\n",
      "Apple in NC asked and answered, from RTP campus to latest data center announcement - Raleigh News & Observer\n",
      "US company lays off 200 Indian-Americans in 'donation scam' related to Telugu organisations; similar to f - Times of India\n",
      "Introducing Apple Intelligence for iPhone, iPad, and Mac - Apple\n",
      "Nvidia overtakes Apple as world's most valuable company - Reuters\n",
      "Apple’s Tim Cook Has Ways to Cope With the Looming Trump Tariffs - Bloomberg\n",
      "Apple’s Dictation System Transcribes the Word ‘Racist’ as ‘Trump’ - The New York Times\n",
      "Opinion | You Should Think About Replacing Your iPhone — Now - The New York Times\n"
     ]
    }
   ],
   "source": [
    "# create a google news object\n",
    "gn = GoogleNews()\n",
    "results = gn.search('Apple company latest news')\n",
    "for entry in results['entries']:\n",
    "    print(entry['title'])"
   ]
  },
  {
   "cell_type": "markdown",
   "id": "4669971e-d901-45c3-b2a6-3f2fdee725e2",
   "metadata": {},
   "source": [
    "## **Using newspaper3k**\n",
    "NewsPaper3k is a Python library for web scraping news articles by just passing the URL. A lot of the libraries that we saw before gave us the content but along with a lot of HTML tags and junk data. This library would help you fetch the content and a few more data points from almost any newspaper article on the web.\n",
    "\n",
    "This Python web scraping library can be combined with any of the libraries above to extract the full-text body of the article.\n",
    "\n",
    "To install run: pip install newspaper3k\n",
    "\n",
    "```query = \"Apple company news site:cnn.com OR site:bbc.com OR site:reuters.com\"```"
   ]
  },
  {
   "cell_type": "code",
   "execution_count": 10,
   "id": "9ddcd8c9-5484-44d9-ba98-6652d54caada",
   "metadata": {},
   "outputs": [],
   "source": [
    "from googlesearch import search\n",
    "from newspaper import Article\n",
    "import time"
   ]
  },
  {
   "cell_type": "code",
   "execution_count": null,
   "id": "2c460124-0776-4d74-995b-2d56fde4777c",
   "metadata": {},
   "outputs": [],
   "source": [
    "# query to search for news only from top sites like bbc, reuter, cnn\n",
    "company_name = 'Apple'\n",
    "query = f\"{company_name} company news site:cnn.com OR site:bbc.com OR site:reuters.com\"\n",
    "# Get all he possible urls\n",
    "urls = search(query, num = 3) # Take standard top 5 results\n",
    "# traverse each url item in urls\n",
    "for url in urls:\n",
    "    try:\n",
    "        # instantiate a newspaper3k object\n",
    "        article = Article(url)\n",
    "        # download the article\n",
    "        article.download()\n",
    "        # parse the downloaded article - get title, url, text and other meta data\n",
    "        article.parse()\n",
    "        print(f\"Title : {article.title}\")\n",
    "        print(f\"Site url : {url}\")\n",
    "        print(f\"Content : {article.text[:200]} [...]\\n\\n\")\n",
    "        time.sleep(1)\n",
    "    except Exception as e:\n",
    "        print('-' * 100)\n",
    "        print(\"(done)\")\n",
    "    "
   ]
  },
  {
   "cell_type": "code",
   "execution_count": null,
   "id": "49d0f3d7-07ba-45bb-a313-b97fdb1e645e",
   "metadata": {},
   "outputs": [],
   "source": [
    "# query to search for news only from top sites like bbc, reuter, cnn\n",
    "company_name = 'Apple'\n",
    "query = f\"{company_name} company news site:cnn.com OR site:bbc.com OR site:reuters.com\"\n",
    "# Get all he possible urls\n",
    "urls = search(query, num = 3) # Take standard top 5 results\n",
    "# traverse each url item in urls\n",
    "for url in urls:\n",
    "    try:\n",
    "        # instantiate a newspaper3k object\n",
    "        article = Article(url)\n",
    "        # download the article\n",
    "        article.download()\n",
    "        # parse the downloaded article - get title, url, text and other meta data\n",
    "        article.parse()\n",
    "        print(f\"Title : {article.title}\")\n",
    "        print(f\"Site url : {url}\")\n",
    "        print(f\"Content : {article.text[:200]} [...]\\n\\n\")\n",
    "        time.sleep(1)\n",
    "    except Exception as e:\n",
    "        print('-' * 100)\n",
    "        print(\"(done)\")\n",
    "    "
   ]
  },
  {
   "cell_type": "code",
   "execution_count": 19,
   "id": "bd079f12-935a-41f7-a83d-5174d64840ec",
   "metadata": {},
   "outputs": [
    {
     "name": "stdout",
     "output_type": "stream",
     "text": [
      "/home/devansh-rathore/Desktop/scraping/myenv/lib/python3.12/site-packages/googlesearch/__init__.py\n"
     ]
    }
   ],
   "source": [
    "import googlesearch\n",
    "print(googlesearch.__file__)"
   ]
  },
  {
   "cell_type": "markdown",
   "id": "1ffccb9c-1a4c-4a33-a713-2f5eb973a5e9",
   "metadata": {},
   "source": [
    "## **Using feedparser**\n",
    "feedparser is a Python library used to parse RSS and Atom feeds. It turns an RSS or Atom XML feed into a Python dictionary-like object, making it easy to extract news headlines, links, publication dates, etc.\n",
    "\n",
    "### What Does feedparser.parse() give us ?\n",
    "It returns a dictionary-like object. The structure:\n",
    "```\n",
    "{\n",
    "  'feed': {...},     # Metadata about the feed itself\n",
    "  'entries': [...],  # A list of articles/items\n",
    "  'bozo': 0 or 1,    # Whether there was a parsing error\n",
    "}\n",
    "\n",
    "```\n",
    "Each entry (article) may contain:\n",
    "\n",
    "    title: Title of the article\n",
    "\n",
    "    link: URL to the full article\n",
    "\n",
    "    summary: Summary or snippet\n",
    "\n",
    "    published: Date published\n",
    "\n",
    "    author: Author name (optional)\n",
    "\n",
    "    media_content: Embedded media (if any)\n",
    "\n",
    "    content: Full text (rare — usually use newspaper3k for full content)"
   ]
  },
  {
   "cell_type": "code",
   "execution_count": 1,
   "id": "eb3a0fa0-3c8d-42cc-90ea-143f48e983bc",
   "metadata": {},
   "outputs": [
    {
     "name": "stdout",
     "output_type": "stream",
     "text": [
      "\"Don't Want You Building In India\": Donald Trump To Apple CEO Tim Cook - NDTV https://news.google.com/rss/articles/CBMizwFBVV95cUxNalFoZ1l5MGRzaU4tNHphdEFEcDRvR09kcHA2d3lGSF9WY3dIT2pybnMydVljRnc2b0twWXA0N0Vmd3lWbHZod3c0cGJLV1VMbUhpcDdZRDN4TmI3SnFIU3l1eVVrcjdZUjhTVjJrNDdubkdQRkVuaXkzNzg2TklpYlE4a2pIZzhKczZUZDBkMjliZ0JwY0VVR1NEZEo2RkQxOGxjSlN5b1pyT0k3U29UcjdjUy1BVkpXRXg5eVM1OTNhR1FaTnRaeHhMMGdvNGfSAdcBQVVfeXFMTTlPTnVxYTByWV9YLW9Fc1p5aU1wTW5xTkZNaWlFc3oyS2lQWkZ6Y3dnbFVoQW5iWHV0SnduVEVRbFptR0psTEsyMVlzX3JwUUZzMnNNRVB0d0dnX3R6M1ozeW9MYWI1dFJ0QTFIR0dJVGZBcDUyclJaOWR4S1hzTjlWWkhJSXZQTzdhY3d3cWc1N1VWbmdJbXFGUXpsaDc3UmsxR2ZheWdHaUVNSndXM3ZlbTlBTlBhMGYtY0Y4NlJ0TXY1YlN4MV9nUTFXUnZFeGJvbnNKZ0E?oc=5\n",
      "\n",
      "----------------------------------------\n",
      "iPhone17, iPhone 17 Pro, iPhone 17 Pro Max launch: Check prices in India, Dubai and the USA, launch date and key specs - The Financial Express https://news.google.com/rss/articles/CBMigAJBVV95cUxQR2RzVk9FUjRzMzl3X1owb2lyN2oyWWJTYTFvS1ppbzVaOHhGVFpLNFZFWW5JUVVBcElMU2twbzhXbnd2cHhvZTU5eURzczFKWEdwWmRRTHZkUXE5Y3lEZ1VLSlBVZnVEekJiVXVhUjU3dFI3b3Z3eEY2Ty1UWHNJY2VPaFVmR3pTRGJfeVU1LVRnRUdVVjVpcmNlaGM0aDJ4bTNxNk9tVVNvS3BMOXFqNTUySXljbTEtXzJVZTViR2hSa18tLWdmTllDR1l5MzJUQVZlcFU0N2lId1cyVzNNZkVuVmZibXhvYnZSUGtTYXBGQmFxR2FOTng4eFVET3Ra?oc=5\n",
      "\n",
      "----------------------------------------\n",
      "Amazon Mega Electronic Days sale is live: Big discounts on Apple MacBook, HP, Dell laptops - India Today https://news.google.com/rss/articles/CBMi3wFBVV95cUxOTS1EMjNTR0NhY3NJbFZXcDcwVmszVWFZQS04WkZlS3NRRXNRZ2NScU9SMFNnWlJmOEs5WV9RUFZlc3g5dmhMdWJaUE1hekxCMHlLMzZDNHVFbU1PU3VuS3B1akl6MTZqZHFtVHIwWHVfOWpWaTRUTWJpbkNlWUNnaWI1NW1PVS1pNS03bnZqLTM3Q2wzU1loS3lUNXMwMEJiZ3BRam0zc2VZNG1RWmVkNU40eExCRWtlYlhpeEFfamp1X3pmTEtEdWplR09hcUp4QS1PRnZHeWdoZHhBTEJj0gHkAUFVX3lxTE9maHZLRHQtVmdLTHZUWnNRWUZzMDhDNC1RYzJkdm9QbFdtTmhsMklSMWpKZXptamJ6VzB5aXZYSHZTMFlpaTJLSG1PVjA3TVlHakZsejNIcTNEOWppV0ZvbEE3b2Z0OWxndXJtblF4YUc5bFhtTUFFUmZkNEdnazlPeGNSUVFrTjlnYkI4ZHF6dGh4Mzg5dHRaMlBRUHpPYTc3S3pvQVllemV1SkduaDROVWh4ckI3NDZJazJRWlI4UGU4b1RlNlhObFhRSGhmNGdEYllzTWJVbzdIT3Bybkx4YWJQYg?oc=5\n",
      "\n",
      "----------------------------------------\n",
      "Nothing is launching its first headphones soon, claims they are better than Apple AirPods Max - India Today https://news.google.com/rss/articles/CBMi8AFBVV95cUxOS2kzUlU2S3hyRExzNmlTc2I1Tk1KOTZvWG5KNUo1ZnQyVDBxU1VybnppcEZKUlpJcFNuMmUzdDhIUDlIWXBsckQ0Vkp6OXlyQzZsell5SGZOSXQyZ0s4bFJTdS1LaElDdEdVLWJhZ0dnVmRWMHhGYkIxckV3UUFmczE3aHJ5bllPVFNvdXZwRFZ4bmtqTkpBVWFYSjlPMTRvUGwyS3B1TzE2a1RpVkM3RWgtQ0Fhc0plTTZDUVZRVW1sakQxbmF6ZjgxLXpHNUlqaUhUa05LQWw1T0o2TUU4NktkM1dWMFlmOGhWVGNVUjfSAfYBQVVfeXFMTmp4Rkh6aGwzLXUtVkFPV0tCVGxHMXp5SHQ5VTdHeS15b0dmWk96WmZ4NExrdFlJbWpvY2FDQ2dNNlNCWDdhQThlNnNNZ1FkN3IzZ2FGVFBDWENxOW5rX1J2amx3bUJpeGV3V1M5SERkMGhwOVdwaDRqS2gwT0l1QWpFRy1paV82Q29jcHF2aWgzUTk4bHBtd3VSakZiSHd2X0VfanhWeWdFVHRKZnowN3loaTJCa2FSWFlqZDhGNnBBTk5aUjREbWtCd05pSWR3QWNJSHd1WmZkOTZRV1pJZXRuc0VKSGNEbklVTVQtdVdfX2pudHln?oc=5\n",
      "\n",
      "----------------------------------------\n",
      "India may lose jobs, but Apple faces bigger cost in US shift: GTRI report - The Economic Times https://news.google.com/rss/articles/CBMi8gFBVV95cUxNZ0RMcXY3N21tMGtHeVZCY2NEcENkd1M4dU9WUWRMamluajdMTDVmN1JFck5RMG95UTZGSU5QU1F5QUpucFV3UHY4MUxjeDItY0pFekJlc0QtaGNsNUdBNVI2Mzc5ZkQtRThuTjFGM3JqYW1Qb3NFM3pEb05pOTVWLWxyOGlyZ3c1UVB0cDhadXduWC1ZZnhqbE1LSDdqSEdVcHUzNks3TWV6ZFU4X1hDUGgxcWU1ZENGbmJhWHNVSXJYOG5kenB1WGkzRkxuRnBHa0dnUWRPckZ0X1J2SUFUV21ZdEtnY1VCYWp5S1pfQVN1Z9IB9wFBVV95cUxPZmhibzVja09IampBbExqNXlsNEY0V2tEOEkxSzlhck95Vi1Jdl9KWGRycUtJVHdQZmtMeEY5YnlkcGl3QWJ0MUhkQUJVZ2FBVlVDWk5CVlp6b1NnRnZUWXJMVE9iZXBGSC1zazVEWTcyaEdOandUOGNOR2FaUXhHN2FwdEltcW1tOWRldF9adTd0Y1hHUHMyQXVxQTBMT0VWZmVNSUJCWFRBWGlOX1U4SUxmbTJwVkQySUxiT3JWak82QlB0MjBNbENMUk5xR2FJaGtFQ0l4QTZ1SExsTlRvcE1PWGJvbkdoOWtYRjI0MDJSZEpPbDYw?oc=5\n",
      "\n",
      "----------------------------------------\n"
     ]
    }
   ],
   "source": [
    "import feedparser\n",
    "from newspaper import Article\n",
    "\n",
    "feed_url = \"https://news.google.com/rss/search?q=apple\"\n",
    "feed = feedparser.parse(feed_url)\n",
    "\n",
    "for entry in feed.entries[:5]:\n",
    "    print(entry.title, entry.link)\n",
    "    article = Article(entry.link)\n",
    "    article.download()\n",
    "    article.parse()\n",
    "    print(article.text[:300])\n",
    "    print('-' * 40)\n"
   ]
  },
  {
   "cell_type": "code",
   "execution_count": null,
   "id": "d0d90dcc-ffbb-42e3-aa5e-736e400f9b83",
   "metadata": {},
   "outputs": [],
   "source": []
  }
 ],
 "metadata": {
  "kernelspec": {
   "display_name": "Python 3 (ipykernel)",
   "language": "python",
   "name": "python3"
  },
  "language_info": {
   "codemirror_mode": {
    "name": "ipython",
    "version": 3
   },
   "file_extension": ".py",
   "mimetype": "text/x-python",
   "name": "python",
   "nbconvert_exporter": "python",
   "pygments_lexer": "ipython3",
   "version": "3.12.8"
  }
 },
 "nbformat": 4,
 "nbformat_minor": 5
}
